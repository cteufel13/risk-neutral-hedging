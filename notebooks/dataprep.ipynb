{
 "cells": [
  {
   "cell_type": "code",
   "execution_count": 248,
   "id": "426aed4e",
   "metadata": {},
   "outputs": [],
   "source": [
    "import pandas as pd"
   ]
  },
  {
   "cell_type": "markdown",
   "id": "cd813c27",
   "metadata": {},
   "source": [
    "# Options"
   ]
  },
  {
   "cell_type": "code",
   "execution_count": 249,
   "id": "2de94818",
   "metadata": {},
   "outputs": [],
   "source": [
    "all_options = pd.read_csv('../data/SPYOPT_filtered.csv',parse_dates=['ts_event'])"
   ]
  },
  {
   "cell_type": "code",
   "execution_count": 250,
   "id": "cae9055d",
   "metadata": {},
   "outputs": [],
   "source": [
    "all_options = all_options.drop(columns=['rtype', 'publisher_id','instrument_id'])"
   ]
  },
  {
   "cell_type": "code",
   "execution_count": 251,
   "id": "ae03e013",
   "metadata": {},
   "outputs": [],
   "source": [
    "def split_symbol(symbol):\n",
    "    exp_my,type_price = symbol.split(' ')\n",
    "    option_type = type_price[0]\n",
    "    strike = type_price[1:]\n",
    "    month = exp_my[2]\n",
    "    year = exp_my[3]\n",
    "    return month, year, option_type, strike\n",
    "    "
   ]
  },
  {
   "cell_type": "code",
   "execution_count": 252,
   "id": "e26a9c52",
   "metadata": {},
   "outputs": [],
   "source": [
    "symbol_info = pd.DataFrame(all_options['symbol'].apply(split_symbol).to_list(),columns=['month','year','option_type','strike'])"
   ]
  },
  {
   "cell_type": "code",
   "execution_count": 253,
   "id": "4856020f",
   "metadata": {},
   "outputs": [],
   "source": [
    "month_map = {'F': '01', 'G': '02', 'H': '03', 'J': '04', 'K': '05', 'M': '06',\n",
    "             'N': '07', 'Q': '08', 'U': '09', 'V': '10', 'X': '11', 'Z': '12'}\n"
   ]
  },
  {
   "cell_type": "code",
   "execution_count": 254,
   "id": "44fb38af",
   "metadata": {},
   "outputs": [],
   "source": [
    "symbol_info['month'] = symbol_info['month'].map(month_map)"
   ]
  },
  {
   "cell_type": "code",
   "execution_count": 255,
   "id": "6dd18c83",
   "metadata": {},
   "outputs": [],
   "source": [
    "from datetime import datetime, date,timedelta\n",
    "\n",
    "def get_expiration_date(month,year, todays_date):\n",
    "    year +=10\n",
    "\n",
    "    if date(year+2000, month, 28) < todays_date.date():\n",
    "        year += 10\n",
    "\n",
    "    year = int(year) + 2000\n",
    "    \n",
    "    first_of_month = date(year, month, 1)\n",
    "    days_to_first_friday = (4 - first_of_month.weekday()) % 7\n",
    "    first_friday = first_of_month + timedelta(days=days_to_first_friday)\n",
    "    third_friday_date = first_friday + timedelta(weeks=2)\n",
    "    return third_friday_date\n",
    "\n",
    "\n",
    "\n",
    "\n",
    "\n"
   ]
  },
  {
   "cell_type": "code",
   "execution_count": 256,
   "id": "74705094",
   "metadata": {},
   "outputs": [],
   "source": [
    "all_options = pd.concat([all_options, symbol_info], axis=1)"
   ]
  },
  {
   "cell_type": "code",
   "execution_count": 257,
   "id": "43c71d04",
   "metadata": {},
   "outputs": [
    {
     "data": {
      "text/plain": [
       "ts_event       datetime64[ns]\n",
       "open                  float64\n",
       "high                  float64\n",
       "low                   float64\n",
       "close                 float64\n",
       "volume                  int64\n",
       "symbol                 object\n",
       "month                  object\n",
       "year                   object\n",
       "option_type            object\n",
       "strike                 object\n",
       "dtype: object"
      ]
     },
     "execution_count": 257,
     "metadata": {},
     "output_type": "execute_result"
    }
   ],
   "source": [
    "all_options.dtypes"
   ]
  },
  {
   "cell_type": "code",
   "execution_count": 258,
   "id": "eabca218",
   "metadata": {},
   "outputs": [],
   "source": [
    "expiration_date = all_options.apply(lambda row: get_expiration_date(int(row['month']), int(row['year']), pd.to_datetime(row['ts_event'])), axis=1)"
   ]
  },
  {
   "cell_type": "code",
   "execution_count": 259,
   "id": "321e8f87",
   "metadata": {},
   "outputs": [],
   "source": [
    "all_options['expiration_date'] = expiration_date\n",
    "\n",
    "all_options = all_options.drop(columns=['symbol', 'month', 'year'])"
   ]
  },
  {
   "cell_type": "code",
   "execution_count": 260,
   "id": "d1dd275d",
   "metadata": {},
   "outputs": [],
   "source": [
    "all_options.to_csv('../data/SPYOPT_processed.csv', index=False)"
   ]
  },
  {
   "cell_type": "markdown",
   "id": "9abe59cd",
   "metadata": {},
   "source": [
    "# Futures"
   ]
  },
  {
   "cell_type": "code",
   "execution_count": 279,
   "id": "3b0c87df",
   "metadata": {},
   "outputs": [],
   "source": [
    "futures = pd.read_csv('../data/SPYFUT.csv')\n",
    "futures = futures.drop(columns=['rtype', 'publisher_id','instrument_id'])"
   ]
  },
  {
   "cell_type": "code",
   "execution_count": 280,
   "id": "6200cb15",
   "metadata": {},
   "outputs": [],
   "source": [
    "futures_filtered = futures[~futures['symbol'].str.contains('-')]\n",
    "futures_filtered = futures_filtered.dropna()"
   ]
  },
  {
   "cell_type": "code",
   "execution_count": 281,
   "id": "563a759a",
   "metadata": {},
   "outputs": [],
   "source": [
    "def split_futures_symbol(symbol):\n",
    "    month = symbol[2]\n",
    "    year = symbol[3]\n",
    "    return month, year"
   ]
  },
  {
   "cell_type": "code",
   "execution_count": 282,
   "id": "2d3f82c3",
   "metadata": {},
   "outputs": [],
   "source": [
    "dates = pd.DataFrame(futures_filtered['symbol'].apply(split_futures_symbol).to_list(), columns=['month', 'year'])\n",
    "dates['month'] = dates['month'].map(month_map)"
   ]
  },
  {
   "cell_type": "code",
   "execution_count": 283,
   "id": "13d4ca1c",
   "metadata": {},
   "outputs": [],
   "source": [
    "futures_filtered = pd.concat([\n",
    "    futures_filtered.reset_index(drop=True),\n",
    "    dates.reset_index(drop=True)\n",
    "], axis=1)"
   ]
  },
  {
   "cell_type": "code",
   "execution_count": 285,
   "id": "9f794434",
   "metadata": {},
   "outputs": [],
   "source": [
    "futures_filtered ['expiration_date'] = futures_filtered.apply(\n",
    "    lambda row: get_expiration_date(int(row['month']), int(row['year']), pd.to_datetime(row['ts_event'])), axis=1)"
   ]
  },
  {
   "cell_type": "code",
   "execution_count": 287,
   "id": "f23e8259",
   "metadata": {},
   "outputs": [],
   "source": [
    "futures_filtered = futures_filtered.drop(columns=['symbol', 'month', 'year'])"
   ]
  },
  {
   "cell_type": "code",
   "execution_count": 289,
   "id": "5ad7566f",
   "metadata": {},
   "outputs": [],
   "source": [
    "futures_filtered.to_csv('../data/SPYFUT_processed.csv', index=False)"
   ]
  },
  {
   "cell_type": "code",
   "execution_count": null,
   "id": "10bae54a",
   "metadata": {},
   "outputs": [],
   "source": []
  }
 ],
 "metadata": {
  "kernelspec": {
   "display_name": ".venv",
   "language": "python",
   "name": "python3"
  },
  "language_info": {
   "codemirror_mode": {
    "name": "ipython",
    "version": 3
   },
   "file_extension": ".py",
   "mimetype": "text/x-python",
   "name": "python",
   "nbconvert_exporter": "python",
   "pygments_lexer": "ipython3",
   "version": "3.13.2"
  }
 },
 "nbformat": 4,
 "nbformat_minor": 5
}
