{
 "cells": [
  {
   "cell_type": "markdown",
   "id": "4a8fa1b6",
   "metadata": {},
   "source": [
    "# Delta Hedging in the Binomial Model"
   ]
  },
  {
   "cell_type": "markdown",
   "id": "a7f1a7b8",
   "metadata": {},
   "source": [
    "## 1. Binomial Model"
   ]
  },
  {
   "cell_type": "markdown",
   "id": "5b40f834",
   "metadata": {},
   "source": [
    "Fundamental Information:\n",
    "- Stock price between timesteps can either move up or down \n",
    "- Up and Downmovements have a certain probability"
   ]
  },
  {
   "cell_type": "code",
   "execution_count": null,
   "id": "83260290",
   "metadata": {},
   "outputs": [],
   "source": [
    "import numpy as np\n",
    "import matplotlib.pyplot as plt\n",
    "\n",
    "S_0 = 100   # Initial stock price\n",
    "u = 1.1     # Up factor\n",
    "d = 0.9     # Down factor\n",
    "p = 0.6     # Probability of moving\n",
    "N = 10      # Number of time steps\n",
    "\n",
    "prices = [S_0]\n",
    "\n",
    "for _ in range(N):\n",
    "    move = np.random.choice([u,d],p=[])\n",
    "    prices.append(prices[-1] * move)\n",
    "\n"
   ]
  }
 ],
 "metadata": {
  "language_info": {
   "name": "python"
  }
 },
 "nbformat": 4,
 "nbformat_minor": 5
}
