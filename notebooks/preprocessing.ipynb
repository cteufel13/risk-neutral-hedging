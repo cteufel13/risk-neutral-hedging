{
 "cells": [
  {
   "cell_type": "markdown",
   "id": "c4451cdb",
   "metadata": {},
   "source": [
    "# Delta Hedging"
   ]
  },
  {
   "cell_type": "markdown",
   "id": "e862414f",
   "metadata": {},
   "source": [
    "### *Environment Setup*"
   ]
  },
  {
   "cell_type": "code",
   "execution_count": 1,
   "id": "9833c0a8",
   "metadata": {},
   "outputs": [],
   "source": [
    "import pandas as pd\n",
    "import matplotlib.pyplot as plt\n",
    "import matplotlib.dates as mdates\n",
    "import calendar\n",
    "import holidays\n",
    "from datetime import date, timedelta\n",
    "from tqdm import tqdm\n",
    "tqdm.pandas() \n",
    "\n",
    "import sys\n",
    "sys.path.append('../')"
   ]
  },
  {
   "cell_type": "code",
   "execution_count": 2,
   "id": "1beccb88",
   "metadata": {},
   "outputs": [],
   "source": [
    "options_data = pd.read_csv('../data/SPYOPT.csv',index_col=0, parse_dates=True)\n",
    "futures_data = pd.read_csv('../data/SPYFUT.csv',index_col=0, parse_dates=True)\n",
    "risk_free_rate = pd.read_csv('../data/RFRate.csv', index_col=0, parse_dates=True)"
   ]
  },
  {
   "cell_type": "code",
   "execution_count": 3,
   "id": "627af095",
   "metadata": {},
   "outputs": [],
   "source": [
    "unique_options = options_data['symbol'].unique()\n",
    "target_options = [option for option in unique_options if not option.startswith('UD:1V')]"
   ]
  },
  {
   "cell_type": "code",
   "execution_count": 4,
   "id": "3b37b35e",
   "metadata": {},
   "outputs": [],
   "source": [
    "options_data = options_data[options_data['symbol'].isin(target_options)].drop(columns=['rtype','publisher_id','instrument_id'])"
   ]
  },
  {
   "cell_type": "code",
   "execution_count": 5,
   "id": "745ff8e8",
   "metadata": {},
   "outputs": [],
   "source": [
    "exp_months = {'F': 1, 'G': 2, 'H': 3, 'J': 4, 'K': 5, 'M': 6, 'N': 7, 'Q': 8, 'U': 9, 'V': 10, 'X': 11, 'Z': 12}\n",
    "exp_years = {'0': 2020, '1': 2021, '2': 2022, '3': 2023, '4': 2024, '5': 2025, '6': 2026,'7':2027, '9':2019,'8':2018}"
   ]
  },
  {
   "cell_type": "code",
   "execution_count": 6,
   "id": "f0e10a5c",
   "metadata": {},
   "outputs": [],
   "source": [
    "def get_thursday (exp_month,exp_year):\n",
    "    last_day = calendar.monthrange(exp_year, exp_month)[1]\n",
    "    last_date = date(exp_year, exp_month, last_day)\n",
    "    \n",
    "    while last_date.weekday() != 3:\n",
    "        last_date -= timedelta(days=1)\n",
    "    \n",
    "    return last_date\n",
    "\n",
    "def get_expiration_date(exp_month, exp_year):\n",
    "    holiday_list = holidays.CountryHoliday('US')\n",
    "    expiry = get_thursday(exp_month,exp_year)\n",
    "\n",
    "    while expiry in holiday_list:\n",
    "        expiry -= timedelta(days=1)\n",
    "    \n",
    "    return expiry"
   ]
  },
  {
   "cell_type": "code",
   "execution_count": 7,
   "id": "a5da5a22",
   "metadata": {},
   "outputs": [],
   "source": [
    "def grouping_function(x):\n",
    "    symbol = x['symbol'].iloc[0]\n",
    "    exp_date , strike_type = symbol.split(' ') \n",
    "\n",
    "    exp_month = exp_months[exp_date[-2]]\n",
    "    exp_year = exp_years[exp_date[-1]]\n",
    "    expiry = get_expiration_date(exp_month, exp_year)\n",
    "\n",
    "    type = strike_type[0]\n",
    "    strike = float(strike_type[1:])\n",
    "\n",
    "    midprice = (x['high'] + x['low']) / 2\n",
    "\n",
    "    x['Maturity'] = expiry.strftime('%Y-%m-%d')\n",
    "    x['Type'] = type\n",
    "    x['Strike'] = strike\n",
    "    x['MidPrice'] = midprice\n",
    "\n",
    "    x = x.drop(columns=['high', 'low', 'open', 'close'])\n",
    "\n",
    "    return x\n",
    "\n",
    "def time_to_expiry(ts_event, maturity):\n",
    "    ts_event = pd.to_datetime(ts_event)\n",
    "    maturity = pd.to_datetime(maturity)\n",
    "    diff = (maturity - ts_event).dt.days / 365.25\n",
    "    diff = diff.where(diff >= 0, diff + 10)\n",
    "    return diff"
   ]
  },
  {
   "cell_type": "code",
   "execution_count": 8,
   "id": "28f2fb9d",
   "metadata": {},
   "outputs": [
    {
     "name": "stderr",
     "output_type": "stream",
     "text": [
      "/var/folders/7k/ytnljb093xg6bbfksvnhyg940000gn/T/ipykernel_57904/1341014864.py:1: FutureWarning: DataFrameGroupBy.apply operated on the grouping columns. This behavior is deprecated, and in a future version of pandas the grouping columns will be excluded from the operation. Either pass `include_groups=False` to exclude the groupings or explicitly select the grouping columns after groupby to silence this warning.\n",
      "  grouped_options_data = options_data.groupby('symbol').apply(grouping_function).drop(columns=['symbol']).reset_index().drop(columns=['symbol'])\n"
     ]
    }
   ],
   "source": [
    "grouped_options_data = options_data.groupby('symbol').apply(grouping_function).drop(columns=['symbol']).reset_index().drop(columns=['symbol'])\n",
    "grouped_options_data = grouped_options_data[['ts_event', 'Maturity','Strike', 'MidPrice', 'Type', ]]"
   ]
  },
  {
   "cell_type": "code",
   "execution_count": 9,
   "id": "f56a177b",
   "metadata": {},
   "outputs": [],
   "source": [
    "grouped_options_data['T'] = time_to_expiry(grouped_options_data['ts_event'], grouped_options_data['Maturity'])"
   ]
  },
  {
   "cell_type": "markdown",
   "id": "a16f2c49",
   "metadata": {},
   "source": [
    "### Preparing Futures Data"
   ]
  },
  {
   "cell_type": "code",
   "execution_count": 10,
   "id": "c73457ed",
   "metadata": {},
   "outputs": [],
   "source": [
    "def futures_grouper(x):\n",
    "    symbol = x['symbol'].iloc[0]\n",
    "    exp_month = exp_months[symbol[-2]]\n",
    "    exp_year = exp_years[symbol[-1]]\n",
    "    expiry = get_expiration_date(exp_month, exp_year)\n",
    "\n",
    "    x['Maturity'] = expiry.strftime('%Y-%m-%d')\n",
    "    x['MidPrice'] = (x['high'] + x['low']) / 2\n",
    "    x = x.drop(columns=['high', 'low', 'open', 'close'])\n",
    "\n",
    "    return x"
   ]
  },
  {
   "cell_type": "code",
   "execution_count": 11,
   "id": "32c71ba9",
   "metadata": {},
   "outputs": [
    {
     "name": "stderr",
     "output_type": "stream",
     "text": [
      "/var/folders/7k/ytnljb093xg6bbfksvnhyg940000gn/T/ipykernel_57904/3610527438.py:2: FutureWarning: DataFrameGroupBy.apply operated on the grouping columns. This behavior is deprecated, and in a future version of pandas the grouping columns will be excluded from the operation. Either pass `include_groups=False` to exclude the groupings or explicitly select the grouping columns after groupby to silence this warning.\n",
      "  grouped_futures_data = filtered_futures_data.groupby('symbol').apply(futures_grouper).drop(columns=['symbol']).reset_index().drop(columns=['rtype', 'publisher_id', 'instrument_id', 'symbol','volume'])\n"
     ]
    }
   ],
   "source": [
    "filtered_futures_data = futures_data[futures_data['symbol'].str.len() == 4]\n",
    "grouped_futures_data = filtered_futures_data.groupby('symbol').apply(futures_grouper).drop(columns=['symbol']).reset_index().drop(columns=['rtype', 'publisher_id', 'instrument_id', 'symbol','volume'])"
   ]
  },
  {
   "cell_type": "code",
   "execution_count": 12,
   "id": "263a976c",
   "metadata": {},
   "outputs": [],
   "source": [
    "df_options_indexed = grouped_options_data.set_index(['ts_event', 'Maturity'])\n",
    "df_futures_indexed = grouped_futures_data.set_index(['ts_event', 'Maturity'])\n",
    "df_futures_indexed = df_futures_indexed.rename(columns={'MidPrice': 'FuturesPrice'})\n",
    "df_joined = df_options_indexed.join(df_futures_indexed, how='left')\n",
    "df_joined = df_joined.reset_index().set_index(['ts_event'])\n",
    "df_joined = df_joined.sort_index()"
   ]
  },
  {
   "cell_type": "code",
   "execution_count": 13,
   "id": "2e1db244",
   "metadata": {},
   "outputs": [],
   "source": [
    "risk_free_rate_full_range = pd.date_range(start=risk_free_rate.index.min(), end=risk_free_rate.index.max(), freq='D')\n",
    "risk_free_rate_full = risk_free_rate.reindex(risk_free_rate_full_range)\n",
    "risk_free_rate_full = risk_free_rate_full.ffill()"
   ]
  },
  {
   "cell_type": "code",
   "execution_count": 15,
   "id": "5b3d1c34",
   "metadata": {},
   "outputs": [],
   "source": [
    "risk_free_rate_indexed = risk_free_rate_full.reset_index()\n",
    "risk_free_rate_indexed.columns = ['ts_event', 'RiskFreeRate']\n",
    "risk_free_rate_indexed['ts_event'] = pd.to_datetime(risk_free_rate_indexed['ts_event'])\n",
    "df_joined = df_joined.merge(risk_free_rate_indexed,on='ts_event', how='left')"
   ]
  },
  {
   "cell_type": "code",
   "execution_count": 16,
   "id": "0dc9fb43",
   "metadata": {},
   "outputs": [
    {
     "data": {
      "text/html": [
       "<div>\n",
       "<style scoped>\n",
       "    .dataframe tbody tr th:only-of-type {\n",
       "        vertical-align: middle;\n",
       "    }\n",
       "\n",
       "    .dataframe tbody tr th {\n",
       "        vertical-align: top;\n",
       "    }\n",
       "\n",
       "    .dataframe thead th {\n",
       "        text-align: right;\n",
       "    }\n",
       "</style>\n",
       "<table border=\"1\" class=\"dataframe\">\n",
       "  <thead>\n",
       "    <tr style=\"text-align: right;\">\n",
       "      <th></th>\n",
       "      <th>ts_event</th>\n",
       "      <th>Maturity</th>\n",
       "      <th>Strike</th>\n",
       "      <th>MidPrice</th>\n",
       "      <th>Type</th>\n",
       "      <th>T</th>\n",
       "      <th>FuturesPrice</th>\n",
       "      <th>RiskFreeRate</th>\n",
       "    </tr>\n",
       "  </thead>\n",
       "  <tbody>\n",
       "    <tr>\n",
       "      <th>0</th>\n",
       "      <td>2018-05-13</td>\n",
       "      <td>2018-06-28</td>\n",
       "      <td>2680.0</td>\n",
       "      <td>17.500</td>\n",
       "      <td>P</td>\n",
       "      <td>0.125941</td>\n",
       "      <td>2731.875</td>\n",
       "      <td>1.68</td>\n",
       "    </tr>\n",
       "    <tr>\n",
       "      <th>1</th>\n",
       "      <td>2018-05-13</td>\n",
       "      <td>2018-06-28</td>\n",
       "      <td>2505.0</td>\n",
       "      <td>3.500</td>\n",
       "      <td>P</td>\n",
       "      <td>0.125941</td>\n",
       "      <td>2731.875</td>\n",
       "      <td>1.68</td>\n",
       "    </tr>\n",
       "    <tr>\n",
       "      <th>2</th>\n",
       "      <td>2018-05-13</td>\n",
       "      <td>2018-06-28</td>\n",
       "      <td>2730.0</td>\n",
       "      <td>31.500</td>\n",
       "      <td>P</td>\n",
       "      <td>0.125941</td>\n",
       "      <td>2731.875</td>\n",
       "      <td>1.68</td>\n",
       "    </tr>\n",
       "    <tr>\n",
       "      <th>3</th>\n",
       "      <td>2018-05-13</td>\n",
       "      <td>2018-06-28</td>\n",
       "      <td>2250.0</td>\n",
       "      <td>0.925</td>\n",
       "      <td>P</td>\n",
       "      <td>0.125941</td>\n",
       "      <td>2731.875</td>\n",
       "      <td>1.68</td>\n",
       "    </tr>\n",
       "    <tr>\n",
       "      <th>4</th>\n",
       "      <td>2018-05-13</td>\n",
       "      <td>2018-06-28</td>\n",
       "      <td>2800.0</td>\n",
       "      <td>8.375</td>\n",
       "      <td>C</td>\n",
       "      <td>0.125941</td>\n",
       "      <td>2731.875</td>\n",
       "      <td>1.68</td>\n",
       "    </tr>\n",
       "    <tr>\n",
       "      <th>...</th>\n",
       "      <td>...</td>\n",
       "      <td>...</td>\n",
       "      <td>...</td>\n",
       "      <td>...</td>\n",
       "      <td>...</td>\n",
       "      <td>...</td>\n",
       "      <td>...</td>\n",
       "      <td>...</td>\n",
       "    </tr>\n",
       "    <tr>\n",
       "      <th>841095</th>\n",
       "      <td>2025-06-26</td>\n",
       "      <td>2025-12-24</td>\n",
       "      <td>5250.0</td>\n",
       "      <td>71.000</td>\n",
       "      <td>P</td>\n",
       "      <td>0.495551</td>\n",
       "      <td>6226.000</td>\n",
       "      <td>4.11</td>\n",
       "    </tr>\n",
       "    <tr>\n",
       "      <th>841096</th>\n",
       "      <td>2025-06-26</td>\n",
       "      <td>2025-09-25</td>\n",
       "      <td>5875.0</td>\n",
       "      <td>91.000</td>\n",
       "      <td>P</td>\n",
       "      <td>0.249144</td>\n",
       "      <td>6174.875</td>\n",
       "      <td>4.11</td>\n",
       "    </tr>\n",
       "    <tr>\n",
       "      <th>841097</th>\n",
       "      <td>2025-06-26</td>\n",
       "      <td>2025-09-25</td>\n",
       "      <td>6250.0</td>\n",
       "      <td>200.625</td>\n",
       "      <td>P</td>\n",
       "      <td>0.249144</td>\n",
       "      <td>6174.875</td>\n",
       "      <td>4.11</td>\n",
       "    </tr>\n",
       "    <tr>\n",
       "      <th>841098</th>\n",
       "      <td>2025-06-26</td>\n",
       "      <td>2026-03-26</td>\n",
       "      <td>1800.0</td>\n",
       "      <td>3.950</td>\n",
       "      <td>P</td>\n",
       "      <td>0.747433</td>\n",
       "      <td>6283.875</td>\n",
       "      <td>4.11</td>\n",
       "    </tr>\n",
       "    <tr>\n",
       "      <th>841099</th>\n",
       "      <td>2025-06-26</td>\n",
       "      <td>2026-03-26</td>\n",
       "      <td>5200.0</td>\n",
       "      <td>100.750</td>\n",
       "      <td>P</td>\n",
       "      <td>0.747433</td>\n",
       "      <td>6283.875</td>\n",
       "      <td>4.11</td>\n",
       "    </tr>\n",
       "  </tbody>\n",
       "</table>\n",
       "<p>841100 rows × 8 columns</p>\n",
       "</div>"
      ],
      "text/plain": [
       "         ts_event    Maturity  Strike  MidPrice Type         T  FuturesPrice  \\\n",
       "0      2018-05-13  2018-06-28  2680.0    17.500    P  0.125941      2731.875   \n",
       "1      2018-05-13  2018-06-28  2505.0     3.500    P  0.125941      2731.875   \n",
       "2      2018-05-13  2018-06-28  2730.0    31.500    P  0.125941      2731.875   \n",
       "3      2018-05-13  2018-06-28  2250.0     0.925    P  0.125941      2731.875   \n",
       "4      2018-05-13  2018-06-28  2800.0     8.375    C  0.125941      2731.875   \n",
       "...           ...         ...     ...       ...  ...       ...           ...   \n",
       "841095 2025-06-26  2025-12-24  5250.0    71.000    P  0.495551      6226.000   \n",
       "841096 2025-06-26  2025-09-25  5875.0    91.000    P  0.249144      6174.875   \n",
       "841097 2025-06-26  2025-09-25  6250.0   200.625    P  0.249144      6174.875   \n",
       "841098 2025-06-26  2026-03-26  1800.0     3.950    P  0.747433      6283.875   \n",
       "841099 2025-06-26  2026-03-26  5200.0   100.750    P  0.747433      6283.875   \n",
       "\n",
       "        RiskFreeRate  \n",
       "0               1.68  \n",
       "1               1.68  \n",
       "2               1.68  \n",
       "3               1.68  \n",
       "4               1.68  \n",
       "...              ...  \n",
       "841095          4.11  \n",
       "841096          4.11  \n",
       "841097          4.11  \n",
       "841098          4.11  \n",
       "841099          4.11  \n",
       "\n",
       "[841100 rows x 8 columns]"
      ]
     },
     "execution_count": 16,
     "metadata": {},
     "output_type": "execute_result"
    }
   ],
   "source": [
    "df_joined"
   ]
  },
  {
   "cell_type": "code",
   "execution_count": 17,
   "id": "9f611f4e",
   "metadata": {},
   "outputs": [],
   "source": [
    "from scipy.optimize import brentq\n",
    "from scipy.stats import norm\n",
    "import numpy as np\n",
    "\n",
    "def bs_price(S, K, T, r, sigma, option_type='C'):\n",
    "    d1 = (np.log(S/K) + (r + 0.5*sigma**2)*T) / (sigma * np.sqrt(T))\n",
    "    d2 = d1 - sigma * np.sqrt(T)\n",
    "    if option_type == 'C':\n",
    "        return S * norm.cdf(d1) - K * np.exp(-r*T) * norm.cdf(d2)\n",
    "    else:\n",
    "        return K * np.exp(-r*T) * norm.cdf(-d2) - S * norm.cdf(-d1)\n",
    "\n",
    "def implied_vol(mid_price, S, K, T, r, option_type='C'):\n",
    "    try:\n",
    "        return brentq(lambda sigma: bs_price(S, K, T, r, sigma, option_type) - mid_price, 1e-6, 5.0)\n",
    "    except:\n",
    "        return np.nan\n"
   ]
  },
  {
   "cell_type": "code",
   "execution_count": 18,
   "id": "b1cfd6fe",
   "metadata": {},
   "outputs": [
    {
     "name": "stderr",
     "output_type": "stream",
     "text": [
      "100%|██████████| 841100/841100 [07:33<00:00, 1854.03it/s]\n"
     ]
    }
   ],
   "source": [
    "df_joined['IV'] = df_joined.progress_apply(lambda row: implied_vol( mid_price=row['MidPrice'],\n",
    "                                                        S=row['FuturesPrice'],\n",
    "                                                        K=row['Strike'],\n",
    "                                                        T=row['T'],\n",
    "                                                        r = row['RiskFreeRate'],\n",
    "                                                        option_type=row['Type']),\n",
    "                                                        axis=1)\n",
    "                                                        "
   ]
  },
  {
   "cell_type": "code",
   "execution_count": 20,
   "id": "98004dd1",
   "metadata": {},
   "outputs": [],
   "source": [
    "df_joined.to_csv('../data/JoinedData.csv')"
   ]
  }
 ],
 "metadata": {
  "kernelspec": {
   "display_name": ".venv",
   "language": "python",
   "name": "python3"
  },
  "language_info": {
   "codemirror_mode": {
    "name": "ipython",
    "version": 3
   },
   "file_extension": ".py",
   "mimetype": "text/x-python",
   "name": "python",
   "nbconvert_exporter": "python",
   "pygments_lexer": "ipython3",
   "version": "3.13.2"
  }
 },
 "nbformat": 4,
 "nbformat_minor": 5
}
