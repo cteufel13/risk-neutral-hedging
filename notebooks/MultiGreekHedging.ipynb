{
 "cells": [
  {
   "cell_type": "markdown",
   "id": "fdc13cff",
   "metadata": {},
   "source": [
    "# Multi Greek Hedging"
   ]
  },
  {
   "cell_type": "code",
   "execution_count": 2,
   "id": "35ad1a9c",
   "metadata": {},
   "outputs": [],
   "source": [
    "import sys\n",
    "sys.path.append(\"..\")\n",
    "import pandas as pd\n",
    "import numpy as np\n",
    "\n",
    "from utils.process import process_options,process_underlying,process_rf\n",
    "from utils.greeks import delta, gamma, vega, theta, rho\n",
    "from utils.implied_volatility import implied_vol_b76\n",
    "from tqdm import tqdm\n",
    "\n",
    "tqdm.pandas()\n"
   ]
  },
  {
   "cell_type": "code",
   "execution_count": 3,
   "id": "cacb841a",
   "metadata": {},
   "outputs": [],
   "source": [
    "option_data = pd.read_csv(\"../data/SPYOPT_processed.csv\",parse_dates=True)\n",
    "underlying = pd.read_csv(\"../data/SPYFUT_processed.csv\",parse_dates=True).rename(columns={'close': 'futures_close'})\n",
    "rf_rate = pd.read_csv(\"../data/RFRate.csv\", parse_dates=True).rename(columns={'rate': 'rf_rate'})"
   ]
  },
  {
   "cell_type": "code",
   "execution_count": 4,
   "id": "5c0a3e89",
   "metadata": {},
   "outputs": [],
   "source": [
    "all_data = pd.merge(option_data, \n",
    "                    underlying[['ts_event', 'expiration_date', 'futures_close']], \n",
    "                    on=['ts_event', 'expiration_date'], \n",
    "                    how='left')\n",
    "\n",
    "all_data = pd.merge(all_data, \n",
    "                    rf_rate[['ts_event', 'rf_rate']], \n",
    "                    on='ts_event', \n",
    "                    how='left')\n",
    "\n",
    "all_data['rf_rate'] = all_data['rf_rate'].ffill().bfill()\n",
    "all_data['rf_rate'] = 12 *np.log(1 + all_data['rf_rate']/1200)\n",
    "\n",
    "all_data['ts_event'] = pd.to_datetime(all_data['ts_event'])\n",
    "all_data['expiration_date'] = pd.to_datetime(all_data['expiration_date'])\n",
    "\n",
    "all_data = all_data.set_index('ts_event')\n",
    "\n",
    "all_data['futures_close'] = all_data['futures_close'].ffill()\n",
    "\n",
    "all_data = all_data.reset_index()\n",
    "\n",
    "all_data = all_data.drop(columns=['open', 'high', 'low', 'volume'])\n",
    "\n",
    "all_data = all_data.rename(columns={'close': 'Value','futures_close': 'S','rf_rate': 'r','strike': 'K'})\n",
    "\n",
    "\n",
    "all_data['T'] = (all_data['expiration_date'] - all_data['ts_event']).dt.days / 365.0"
   ]
  },
  {
   "cell_type": "markdown",
   "id": "59901f59",
   "metadata": {},
   "source": [
    "# Preparing Data\n",
    "\n",
    "Since we are going to just be dealing with calls, we can filter out all the puts that are being traded."
   ]
  },
  {
   "cell_type": "code",
   "execution_count": 5,
   "id": "2704ecd9",
   "metadata": {},
   "outputs": [
    {
     "name": "stderr",
     "output_type": "stream",
     "text": [
      " 99%|█████████▊| 9866/9998 [00:05<00:00, 1447.98it/s]/Users/carloteufel/Documents/Projects/risk-neutral-hedging/.venv/lib/python3.13/site-packages/tqdm/std.py:917: FutureWarning: DataFrameGroupBy.apply operated on the grouping columns. This behavior is deprecated, and in a future version of pandas the grouping columns will be excluded from the operation. Either pass `include_groups=False` to exclude the groupings or explicitly select the grouping columns after groupby to silence this warning.\n",
      "  return getattr(df, df_function)(wrapper, **kwargs)\n",
      "100%|██████████| 9998/9998 [00:06<00:00, 1455.56it/s]\n"
     ]
    }
   ],
   "source": [
    "#Reindexing\n",
    "def grouper1(group):\n",
    "    start_date = group['ts_event'].min()\n",
    "    end_date = group['ts_event'].max()\n",
    "    group = group.set_index('ts_event').reindex(pd.date_range(start=start_date, end=end_date, freq='D')).reset_index()\n",
    "    group['option_type'] = group['option_type'].ffill()\n",
    "    group['K'] = group['K'].ffill()\n",
    "    group['expiration_date'] = group['expiration_date'].ffill()\n",
    "    return group\n",
    "\n",
    "def filter1(group):\n",
    "    if len(group) < 10:\n",
    "        return False\n",
    "    \n",
    "    S0    = group['S'].iloc[0]                      # spot\n",
    "    K     = group['K'].iloc[0]\n",
    "    T    = group['T'].iloc[0]                      # time to maturity\n",
    "    r = group['r'].iloc[0]                      # risk-free rate\n",
    "    upper = S0 *np.exp(r*T + 1.64*0.2*np.sqrt(T))  # upper bound\n",
    "    lower = S0 *np.exp(r*T - 1.64*0.2*np.sqrt(T))  # lower bound\n",
    "    return (upper >= K >= lower)\n",
    "    \n",
    "\n",
    "all_data = all_data.groupby(['expiration_date','K','option_type']).filter(filter1).groupby(['expiration_date','K','option_type']).progress_apply(grouper1)"
   ]
  },
  {
   "cell_type": "markdown",
   "id": "e9313d20",
   "metadata": {},
   "source": [
    "To accurately do the Greek hedging, you need to have the values for all greeks for each outstanding option at each time point.\n",
    "\n",
    "Basically we need a big Tensor of shape  $ G \\in\\mathbb{R}^{n\\times m\\times d}$ with $n$ = timesteps (trading days), $m$ = outstanding options (strike prices and expiration dates), $d$ the greeks (delta,gamma,vega,theta,rho)"
   ]
  },
  {
   "cell_type": "markdown",
   "id": "b52930b2",
   "metadata": {},
   "source": [
    "#### Small Cells"
   ]
  },
  {
   "cell_type": "code",
   "execution_count": 6,
   "id": "f9a43ca4",
   "metadata": {},
   "outputs": [],
   "source": [
    "all_data = all_data.reset_index(drop=True).rename(columns={'index': 'ts_event'})"
   ]
  },
  {
   "cell_type": "code",
   "execution_count": 7,
   "id": "bb4f2d26",
   "metadata": {},
   "outputs": [],
   "source": [
    "all_data['r'] = all_data['r'].ffill()\n",
    "all_data['T'] = (all_data['expiration_date'] - all_data['ts_event']).dt.days / 365.0"
   ]
  },
  {
   "cell_type": "code",
   "execution_count": 8,
   "id": "a7af88d9",
   "metadata": {},
   "outputs": [],
   "source": [
    "underlying['ts_event'] = pd.to_datetime(underlying['ts_event'])\n",
    "underlying['expiration_date'] = pd.to_datetime(underlying['expiration_date'])"
   ]
  },
  {
   "cell_type": "code",
   "execution_count": 9,
   "id": "7cc4acf4",
   "metadata": {},
   "outputs": [],
   "source": [
    "all_data = pd.merge(all_data, \n",
    "                    underlying[['ts_event', 'expiration_date', 'futures_close']], \n",
    "                    on=['ts_event', 'expiration_date'], \n",
    "                    how='left')\n",
    "all_data['S'] = all_data['S'].fillna(all_data['futures_close'])\n",
    "all_data = all_data.drop(columns=['futures_close'])\n"
   ]
  },
  {
   "cell_type": "code",
   "execution_count": 10,
   "id": "4e462b07",
   "metadata": {},
   "outputs": [],
   "source": [
    "all_data = all_data[ all_data['ts_event'].dt.dayofweek < 5 ]"
   ]
  },
  {
   "cell_type": "code",
   "execution_count": 11,
   "id": "6da73740",
   "metadata": {},
   "outputs": [
    {
     "name": "stderr",
     "output_type": "stream",
     "text": [
      " 24%|██▍       | 2437/9998 [00:05<00:09, 764.50it/s]/Users/carloteufel/Documents/Projects/risk-neutral-hedging/.venv/lib/python3.13/site-packages/pandas/core/missing.py:604: UserWarning: \n",
      "The maximal number of iterations maxit (set to 20 by the program)\n",
      "allowed for finding a smoothing spline with fp=s has been reached: s\n",
      "too small.\n",
      "There is an approximation returned but the corresponding weighted sum\n",
      "of squared residuals does not satisfy the condition abs(fp-s)/s < tol.\n",
      "  terp = interpolate.UnivariateSpline(x, y, k=order, **kwargs)\n",
      "100%|█████████▉| 9970/9998 [00:22<00:00, 592.67it/s]/Users/carloteufel/Documents/Projects/risk-neutral-hedging/.venv/lib/python3.13/site-packages/tqdm/std.py:917: FutureWarning: DataFrameGroupBy.apply operated on the grouping columns. This behavior is deprecated, and in a future version of pandas the grouping columns will be excluded from the operation. Either pass `include_groups=False` to exclude the groupings or explicitly select the grouping columns after groupby to silence this warning.\n",
      "  return getattr(df, df_function)(wrapper, **kwargs)\n",
      "100%|██████████| 9998/9998 [00:23<00:00, 432.62it/s]\n"
     ]
    }
   ],
   "source": [
    "def grouper2(group):\n",
    "    group['S'] = group['S'].interpolate(method='spline', order=1)\n",
    "    group['Value'] = group['Value'].interpolate(method='spline', order=1)\n",
    "    return group\n",
    "\n",
    "all_data = all_data.groupby(['expiration_date', 'K', 'option_type']).progress_apply(grouper2).reset_index(drop=True)\n"
   ]
  },
  {
   "cell_type": "markdown",
   "id": "f2052454",
   "metadata": {},
   "source": [
    "#### Splitting to Calls"
   ]
  },
  {
   "cell_type": "code",
   "execution_count": 12,
   "id": "caaba3c2",
   "metadata": {},
   "outputs": [],
   "source": [
    "calls_data = all_data[all_data['option_type'] == 'C']"
   ]
  },
  {
   "cell_type": "code",
   "execution_count": 13,
   "id": "12f76657",
   "metadata": {},
   "outputs": [
    {
     "name": "stderr",
     "output_type": "stream",
     "text": [
      "  0%|          | 1/681332 [00:00<90:29:50,  2.09it/s]/Users/carloteufel/Documents/Projects/risk-neutral-hedging/notebooks/../utils/implied_volatility.py:29: RuntimeWarning: divide by zero encountered in scalar divide\n",
      "  d1 = (np.log(F / K) + 0.5 * sigma**2 * T) / (sigma * np.sqrt(T))\n",
      "100%|██████████| 681332/681332 [06:48<00:00, 1666.97it/s]\n",
      "/var/folders/7k/ytnljb093xg6bbfksvnhyg940000gn/T/ipykernel_55869/2625644187.py:1: SettingWithCopyWarning: \n",
      "A value is trying to be set on a copy of a slice from a DataFrame.\n",
      "Try using .loc[row_indexer,col_indexer] = value instead\n",
      "\n",
      "See the caveats in the documentation: https://pandas.pydata.org/pandas-docs/stable/user_guide/indexing.html#returning-a-view-versus-a-copy\n",
      "  calls_data['IV'] = calls_data.progress_apply(lambda row: implied_vol_b76(row['S'], row['K'], row['T'], row['r'], row['Value'], row['option_type']), axis=1)\n"
     ]
    }
   ],
   "source": [
    "calls_data['IV'] = calls_data.progress_apply(lambda row: implied_vol_b76(row['S'], row['K'], row['T'], row['r'], row['Value'], row['option_type']), axis=1)"
   ]
  },
  {
   "cell_type": "code",
   "execution_count": 14,
   "id": "a5b4dabe",
   "metadata": {},
   "outputs": [],
   "source": [
    "def grouper3(group):\n",
    "    vol_surface = group.pivot(index='K', columns='T', values='IV')\n",
    "    vol_surface = vol_surface.sort_index().sort_index(axis=1)\n",
    "\n",
    "    # Interpolate along strikes and maturities\n",
    "    vol_surface = vol_surface.interpolate(axis=0, method='linear')\n",
    "    vol_surface = vol_surface.interpolate(axis=1, method='linear')\n",
    "\n",
    "    # Edge-fill any remaining NaNs\n",
    "    vol_surface = vol_surface.ffill(axis=0).bfill(axis=0)\n",
    "    vol_surface = vol_surface.ffill(axis=1).bfill(axis=1)\n",
    "\n",
    "    filled_df = vol_surface.stack().rename('IV').reset_index()\n",
    "\n",
    "    # Map interpolated values back into original DataFrame\n",
    "    iv_map = filled_df.set_index(['K', 'T'])['IV']\n",
    "    group['IV'] = group.set_index(['K', 'T'])['IV'].fillna(iv_map).values\n",
    "    return group\n"
   ]
  },
  {
   "cell_type": "code",
   "execution_count": 15,
   "id": "fe8a3486",
   "metadata": {},
   "outputs": [
    {
     "name": "stderr",
     "output_type": "stream",
     "text": [
      "100%|█████████▉| 1850/1859 [00:05<00:00, 305.45it/s]/Users/carloteufel/Documents/Projects/risk-neutral-hedging/.venv/lib/python3.13/site-packages/tqdm/std.py:917: FutureWarning: DataFrameGroupBy.apply operated on the grouping columns. This behavior is deprecated, and in a future version of pandas the grouping columns will be excluded from the operation. Either pass `include_groups=False` to exclude the groupings or explicitly select the grouping columns after groupby to silence this warning.\n",
      "  return getattr(df, df_function)(wrapper, **kwargs)\n",
      "100%|██████████| 1859/1859 [00:06<00:00, 301.38it/s]\n"
     ]
    }
   ],
   "source": [
    "calls_data = calls_data.groupby(['ts_event']).progress_apply(grouper3)"
   ]
  },
  {
   "cell_type": "markdown",
   "id": "942575f4",
   "metadata": {},
   "source": [
    "#### Add Greeks"
   ]
  },
  {
   "cell_type": "code",
   "execution_count": 16,
   "id": "58fbb9dd",
   "metadata": {},
   "outputs": [
    {
     "name": "stderr",
     "output_type": "stream",
     "text": [
      "  1%|          | 6016/681332 [00:00<00:57, 11754.63it/s]/Users/carloteufel/Documents/Projects/risk-neutral-hedging/notebooks/../utils/greeks.py:6: RuntimeWarning: divide by zero encountered in scalar divide\n",
      "  return norm.cdf((np.log(S / K) + (r + 0.5 * sigma**2) * T) / (sigma * np.sqrt(T)))\n",
      "100%|██████████| 681332/681332 [00:22<00:00, 29696.09it/s]\n",
      "  1%|          | 5947/681332 [00:00<00:54, 12311.30it/s]/Users/carloteufel/Documents/Projects/risk-neutral-hedging/notebooks/../utils/greeks.py:11: RuntimeWarning: divide by zero encountered in scalar divide\n",
      "  (np.log(S / K) + (r + 0.5 * sigma**2) * T) / (sigma * np.sqrt(T))\n",
      "/Users/carloteufel/Documents/Projects/risk-neutral-hedging/notebooks/../utils/greeks.py:10: RuntimeWarning: invalid value encountered in scalar divide\n",
      "  return norm.pdf(\n",
      "100%|██████████| 681332/681332 [00:23<00:00, 28956.11it/s]\n",
      "  1%|          | 6008/681332 [00:00<01:02, 10748.80it/s]/Users/carloteufel/Documents/Projects/risk-neutral-hedging/notebooks/../utils/greeks.py:18: RuntimeWarning: divide by zero encountered in scalar divide\n",
      "  * norm.pdf((np.log(S / K) + (r + 0.5 * sigma**2) * T) / (sigma * np.sqrt(T)))\n",
      "100%|██████████| 681332/681332 [00:23<00:00, 28842.27it/s]\n"
     ]
    }
   ],
   "source": [
    "calls_data['delta'] = calls_data.progress_apply(lambda row: delta(row['S'], row['K'], row['T'], row['r'], row['IV']), axis=1)\n",
    "calls_data['gamma'] = calls_data.progress_apply(lambda row: gamma(row['S'], row['K'], row['T'], row['r'], row['IV']), axis=1)\n",
    "calls_data['vega'] = calls_data.progress_apply(lambda row: vega(row['S'], row['K'], row['T'], row['r'], row['IV']), axis=1)\n"
   ]
  },
  {
   "cell_type": "code",
   "execution_count": 17,
   "id": "36c2d4e3",
   "metadata": {},
   "outputs": [],
   "source": [
    "calls_data = calls_data.reset_index(drop=True)\n",
    "calls_data = calls_data[calls_data['T'] != 0]\n"
   ]
  },
  {
   "cell_type": "code",
   "execution_count": 18,
   "id": "02fb79c3",
   "metadata": {},
   "outputs": [
    {
     "data": {
      "text/plain": [
       "ts_event            0\n",
       "Value              12\n",
       "option_type         0\n",
       "K                   0\n",
       "expiration_date     0\n",
       "S                   0\n",
       "r                   0\n",
       "T                   0\n",
       "IV                  0\n",
       "delta               0\n",
       "gamma               0\n",
       "vega                0\n",
       "dtype: int64"
      ]
     },
     "execution_count": 18,
     "metadata": {},
     "output_type": "execute_result"
    }
   ],
   "source": [
    "calls_data.isna().sum()"
   ]
  },
  {
   "cell_type": "code",
   "execution_count": 19,
   "id": "4f267ab8",
   "metadata": {},
   "outputs": [],
   "source": [
    "import pandas as pd \n",
    "from pandas.tseries.offsets import DateOffset\n",
    "\n",
    "\n",
    "def grouper4(group):\n",
    "    pivot = (\n",
    "        group\n",
    "        .set_index(['expiration_date', 'K'])[['delta','gamma','vega']]   # index by the two “option” keys, keep only the Greeks\n",
    "        .T                                                               # transpose so that the Greeks become the rows\n",
    "        )\n",
    "    \n",
    "    values = pivot.values\n",
    "    return pd.Series(data = np.linalg.pinv(values) @ np.array([-1, 0, 0]).T, index=pivot.columns)\n",
    "        \n",
    "\n"
   ]
  },
  {
   "cell_type": "code",
   "execution_count": 20,
   "id": "d08a5333",
   "metadata": {},
   "outputs": [
    {
     "name": "stderr",
     "output_type": "stream",
     "text": [
      " 93%|█████████▎| 1738/1859 [00:00<00:00, 2222.60it/s]/Users/carloteufel/Documents/Projects/risk-neutral-hedging/.venv/lib/python3.13/site-packages/tqdm/std.py:917: FutureWarning: DataFrameGroupBy.apply operated on the grouping columns. This behavior is deprecated, and in a future version of pandas the grouping columns will be excluded from the operation. Either pass `include_groups=False` to exclude the groupings or explicitly select the grouping columns after groupby to silence this warning.\n",
      "  return getattr(df, df_function)(wrapper, **kwargs)\n",
      "100%|██████████| 1859/1859 [00:01<00:00, 1592.83it/s]\n"
     ]
    }
   ],
   "source": [
    "distribution = calls_data.groupby(['ts_event']).progress_apply(grouper4)"
   ]
  },
  {
   "cell_type": "code",
   "execution_count": 23,
   "id": "61e6404c",
   "metadata": {},
   "outputs": [],
   "source": [
    "distribution_horizontal = distribution.unstack(level=['expiration_date','K'])\n"
   ]
  },
  {
   "cell_type": "code",
   "execution_count": 32,
   "id": "23fdc78d",
   "metadata": {},
   "outputs": [],
   "source": [
    "distribution_horizontal = distribution_horizontal.fillna(0)\n",
    "distribution_horizontal = distribution_horizontal.sort_index(axis=1, level=[0,1])"
   ]
  },
  {
   "cell_type": "code",
   "execution_count": 33,
   "id": "ec7c1af3",
   "metadata": {},
   "outputs": [],
   "source": [
    "distribution_horizontal.to_csv('../results/HedgingDistribution.csv')"
   ]
  },
  {
   "cell_type": "code",
   "execution_count": 34,
   "id": "304885e4",
   "metadata": {},
   "outputs": [
    {
     "data": {
      "text/html": [
       "<div>\n",
       "<style scoped>\n",
       "    .dataframe tbody tr th:only-of-type {\n",
       "        vertical-align: middle;\n",
       "    }\n",
       "\n",
       "    .dataframe tbody tr th {\n",
       "        vertical-align: top;\n",
       "    }\n",
       "\n",
       "    .dataframe thead tr th {\n",
       "        text-align: left;\n",
       "    }\n",
       "\n",
       "    .dataframe thead tr:last-of-type th {\n",
       "        text-align: right;\n",
       "    }\n",
       "</style>\n",
       "<table border=\"1\" class=\"dataframe\">\n",
       "  <thead>\n",
       "    <tr>\n",
       "      <th>expiration_date</th>\n",
       "      <th colspan=\"10\" halign=\"left\">2018-06-15</th>\n",
       "      <th>...</th>\n",
       "      <th colspan=\"6\" halign=\"left\">2026-12-18</th>\n",
       "      <th colspan=\"3\" halign=\"left\">2027-12-17</th>\n",
       "      <th>2028-12-15</th>\n",
       "    </tr>\n",
       "    <tr>\n",
       "      <th>K</th>\n",
       "      <th>2600.0</th>\n",
       "      <th>2630.0</th>\n",
       "      <th>2640.0</th>\n",
       "      <th>2650.0</th>\n",
       "      <th>2655.0</th>\n",
       "      <th>2660.0</th>\n",
       "      <th>2665.0</th>\n",
       "      <th>2670.0</th>\n",
       "      <th>2675.0</th>\n",
       "      <th>2680.0</th>\n",
       "      <th>...</th>\n",
       "      <th>7000.0</th>\n",
       "      <th>7400.0</th>\n",
       "      <th>7500.0</th>\n",
       "      <th>7800.0</th>\n",
       "      <th>8000.0</th>\n",
       "      <th>8500.0</th>\n",
       "      <th>7000.0</th>\n",
       "      <th>7500.0</th>\n",
       "      <th>8000.0</th>\n",
       "      <th>10000.0</th>\n",
       "    </tr>\n",
       "    <tr>\n",
       "      <th>ts_event</th>\n",
       "      <th></th>\n",
       "      <th></th>\n",
       "      <th></th>\n",
       "      <th></th>\n",
       "      <th></th>\n",
       "      <th></th>\n",
       "      <th></th>\n",
       "      <th></th>\n",
       "      <th></th>\n",
       "      <th></th>\n",
       "      <th></th>\n",
       "      <th></th>\n",
       "      <th></th>\n",
       "      <th></th>\n",
       "      <th></th>\n",
       "      <th></th>\n",
       "      <th></th>\n",
       "      <th></th>\n",
       "      <th></th>\n",
       "      <th></th>\n",
       "      <th></th>\n",
       "    </tr>\n",
       "  </thead>\n",
       "  <tbody>\n",
       "    <tr>\n",
       "      <th>2018-05-14</th>\n",
       "      <td>-0.150682</td>\n",
       "      <td>0.000000</td>\n",
       "      <td>-0.137838</td>\n",
       "      <td>-0.115566</td>\n",
       "      <td>-0.108156</td>\n",
       "      <td>-0.108949</td>\n",
       "      <td>-0.098853</td>\n",
       "      <td>-0.096837</td>\n",
       "      <td>-0.090035</td>\n",
       "      <td>-0.081105</td>\n",
       "      <td>...</td>\n",
       "      <td>0.0</td>\n",
       "      <td>0.0</td>\n",
       "      <td>0.000000</td>\n",
       "      <td>0.0</td>\n",
       "      <td>0.0</td>\n",
       "      <td>0.000000</td>\n",
       "      <td>0.0</td>\n",
       "      <td>0.0</td>\n",
       "      <td>0.000000</td>\n",
       "      <td>0.0</td>\n",
       "    </tr>\n",
       "    <tr>\n",
       "      <th>2018-05-15</th>\n",
       "      <td>-0.181810</td>\n",
       "      <td>-0.135705</td>\n",
       "      <td>-0.121371</td>\n",
       "      <td>-0.107330</td>\n",
       "      <td>-0.099208</td>\n",
       "      <td>-0.091203</td>\n",
       "      <td>-0.083398</td>\n",
       "      <td>-0.075017</td>\n",
       "      <td>-0.064970</td>\n",
       "      <td>-0.058336</td>\n",
       "      <td>...</td>\n",
       "      <td>0.0</td>\n",
       "      <td>0.0</td>\n",
       "      <td>0.000000</td>\n",
       "      <td>0.0</td>\n",
       "      <td>0.0</td>\n",
       "      <td>0.000000</td>\n",
       "      <td>0.0</td>\n",
       "      <td>0.0</td>\n",
       "      <td>0.000000</td>\n",
       "      <td>0.0</td>\n",
       "    </tr>\n",
       "    <tr>\n",
       "      <th>2018-05-16</th>\n",
       "      <td>-0.132818</td>\n",
       "      <td>-0.122401</td>\n",
       "      <td>-0.085768</td>\n",
       "      <td>-0.062947</td>\n",
       "      <td>-0.085095</td>\n",
       "      <td>-0.065710</td>\n",
       "      <td>-0.057636</td>\n",
       "      <td>-0.049709</td>\n",
       "      <td>-0.044968</td>\n",
       "      <td>-0.040669</td>\n",
       "      <td>...</td>\n",
       "      <td>0.0</td>\n",
       "      <td>0.0</td>\n",
       "      <td>0.000000</td>\n",
       "      <td>0.0</td>\n",
       "      <td>0.0</td>\n",
       "      <td>0.000000</td>\n",
       "      <td>0.0</td>\n",
       "      <td>0.0</td>\n",
       "      <td>0.000000</td>\n",
       "      <td>0.0</td>\n",
       "    </tr>\n",
       "    <tr>\n",
       "      <th>2018-05-17</th>\n",
       "      <td>-0.128766</td>\n",
       "      <td>-0.103386</td>\n",
       "      <td>-0.079972</td>\n",
       "      <td>-0.070919</td>\n",
       "      <td>-0.069636</td>\n",
       "      <td>-0.068280</td>\n",
       "      <td>-0.062860</td>\n",
       "      <td>-0.058603</td>\n",
       "      <td>-0.053024</td>\n",
       "      <td>-0.047144</td>\n",
       "      <td>...</td>\n",
       "      <td>0.0</td>\n",
       "      <td>0.0</td>\n",
       "      <td>0.000000</td>\n",
       "      <td>0.0</td>\n",
       "      <td>0.0</td>\n",
       "      <td>0.000000</td>\n",
       "      <td>0.0</td>\n",
       "      <td>0.0</td>\n",
       "      <td>0.000000</td>\n",
       "      <td>0.0</td>\n",
       "    </tr>\n",
       "    <tr>\n",
       "      <th>2018-05-18</th>\n",
       "      <td>-0.115955</td>\n",
       "      <td>-0.093406</td>\n",
       "      <td>-0.083000</td>\n",
       "      <td>-0.075690</td>\n",
       "      <td>-0.073133</td>\n",
       "      <td>-0.070760</td>\n",
       "      <td>-0.065442</td>\n",
       "      <td>-0.060690</td>\n",
       "      <td>-0.055094</td>\n",
       "      <td>-0.049458</td>\n",
       "      <td>...</td>\n",
       "      <td>0.0</td>\n",
       "      <td>0.0</td>\n",
       "      <td>0.000000</td>\n",
       "      <td>0.0</td>\n",
       "      <td>0.0</td>\n",
       "      <td>0.000000</td>\n",
       "      <td>0.0</td>\n",
       "      <td>0.0</td>\n",
       "      <td>0.000000</td>\n",
       "      <td>0.0</td>\n",
       "    </tr>\n",
       "    <tr>\n",
       "      <th>...</th>\n",
       "      <td>...</td>\n",
       "      <td>...</td>\n",
       "      <td>...</td>\n",
       "      <td>...</td>\n",
       "      <td>...</td>\n",
       "      <td>...</td>\n",
       "      <td>...</td>\n",
       "      <td>...</td>\n",
       "      <td>...</td>\n",
       "      <td>...</td>\n",
       "      <td>...</td>\n",
       "      <td>...</td>\n",
       "      <td>...</td>\n",
       "      <td>...</td>\n",
       "      <td>...</td>\n",
       "      <td>...</td>\n",
       "      <td>...</td>\n",
       "      <td>...</td>\n",
       "      <td>...</td>\n",
       "      <td>...</td>\n",
       "      <td>...</td>\n",
       "    </tr>\n",
       "    <tr>\n",
       "      <th>2025-06-20</th>\n",
       "      <td>0.000000</td>\n",
       "      <td>0.000000</td>\n",
       "      <td>0.000000</td>\n",
       "      <td>0.000000</td>\n",
       "      <td>0.000000</td>\n",
       "      <td>0.000000</td>\n",
       "      <td>0.000000</td>\n",
       "      <td>0.000000</td>\n",
       "      <td>0.000000</td>\n",
       "      <td>0.000000</td>\n",
       "      <td>...</td>\n",
       "      <td>0.0</td>\n",
       "      <td>0.0</td>\n",
       "      <td>0.052356</td>\n",
       "      <td>0.0</td>\n",
       "      <td>0.0</td>\n",
       "      <td>0.028661</td>\n",
       "      <td>0.0</td>\n",
       "      <td>0.0</td>\n",
       "      <td>0.073727</td>\n",
       "      <td>0.0</td>\n",
       "    </tr>\n",
       "    <tr>\n",
       "      <th>2025-06-23</th>\n",
       "      <td>0.000000</td>\n",
       "      <td>0.000000</td>\n",
       "      <td>0.000000</td>\n",
       "      <td>0.000000</td>\n",
       "      <td>0.000000</td>\n",
       "      <td>0.000000</td>\n",
       "      <td>0.000000</td>\n",
       "      <td>0.000000</td>\n",
       "      <td>0.000000</td>\n",
       "      <td>0.000000</td>\n",
       "      <td>...</td>\n",
       "      <td>0.0</td>\n",
       "      <td>0.0</td>\n",
       "      <td>0.000000</td>\n",
       "      <td>0.0</td>\n",
       "      <td>0.0</td>\n",
       "      <td>0.021630</td>\n",
       "      <td>0.0</td>\n",
       "      <td>0.0</td>\n",
       "      <td>0.056230</td>\n",
       "      <td>0.0</td>\n",
       "    </tr>\n",
       "    <tr>\n",
       "      <th>2025-06-24</th>\n",
       "      <td>0.000000</td>\n",
       "      <td>0.000000</td>\n",
       "      <td>0.000000</td>\n",
       "      <td>0.000000</td>\n",
       "      <td>0.000000</td>\n",
       "      <td>0.000000</td>\n",
       "      <td>0.000000</td>\n",
       "      <td>0.000000</td>\n",
       "      <td>0.000000</td>\n",
       "      <td>0.000000</td>\n",
       "      <td>...</td>\n",
       "      <td>0.0</td>\n",
       "      <td>0.0</td>\n",
       "      <td>0.000000</td>\n",
       "      <td>0.0</td>\n",
       "      <td>0.0</td>\n",
       "      <td>0.000000</td>\n",
       "      <td>0.0</td>\n",
       "      <td>0.0</td>\n",
       "      <td>0.000000</td>\n",
       "      <td>0.0</td>\n",
       "    </tr>\n",
       "    <tr>\n",
       "      <th>2025-06-25</th>\n",
       "      <td>0.000000</td>\n",
       "      <td>0.000000</td>\n",
       "      <td>0.000000</td>\n",
       "      <td>0.000000</td>\n",
       "      <td>0.000000</td>\n",
       "      <td>0.000000</td>\n",
       "      <td>0.000000</td>\n",
       "      <td>0.000000</td>\n",
       "      <td>0.000000</td>\n",
       "      <td>0.000000</td>\n",
       "      <td>...</td>\n",
       "      <td>0.0</td>\n",
       "      <td>0.0</td>\n",
       "      <td>0.000000</td>\n",
       "      <td>0.0</td>\n",
       "      <td>0.0</td>\n",
       "      <td>0.000000</td>\n",
       "      <td>0.0</td>\n",
       "      <td>0.0</td>\n",
       "      <td>0.000000</td>\n",
       "      <td>0.0</td>\n",
       "    </tr>\n",
       "    <tr>\n",
       "      <th>2025-06-26</th>\n",
       "      <td>0.000000</td>\n",
       "      <td>0.000000</td>\n",
       "      <td>0.000000</td>\n",
       "      <td>0.000000</td>\n",
       "      <td>0.000000</td>\n",
       "      <td>0.000000</td>\n",
       "      <td>0.000000</td>\n",
       "      <td>0.000000</td>\n",
       "      <td>0.000000</td>\n",
       "      <td>0.000000</td>\n",
       "      <td>...</td>\n",
       "      <td>0.0</td>\n",
       "      <td>0.0</td>\n",
       "      <td>0.000000</td>\n",
       "      <td>0.0</td>\n",
       "      <td>0.0</td>\n",
       "      <td>0.000000</td>\n",
       "      <td>0.0</td>\n",
       "      <td>0.0</td>\n",
       "      <td>0.000000</td>\n",
       "      <td>0.0</td>\n",
       "    </tr>\n",
       "  </tbody>\n",
       "</table>\n",
       "<p>1859 rows × 4914 columns</p>\n",
       "</div>"
      ],
      "text/plain": [
       "expiration_date 2018-06-15                                                    \\\n",
       "K                  2600.0    2630.0    2640.0    2650.0    2655.0    2660.0    \n",
       "ts_event                                                                       \n",
       "2018-05-14       -0.150682  0.000000 -0.137838 -0.115566 -0.108156 -0.108949   \n",
       "2018-05-15       -0.181810 -0.135705 -0.121371 -0.107330 -0.099208 -0.091203   \n",
       "2018-05-16       -0.132818 -0.122401 -0.085768 -0.062947 -0.085095 -0.065710   \n",
       "2018-05-17       -0.128766 -0.103386 -0.079972 -0.070919 -0.069636 -0.068280   \n",
       "2018-05-18       -0.115955 -0.093406 -0.083000 -0.075690 -0.073133 -0.070760   \n",
       "...                    ...       ...       ...       ...       ...       ...   \n",
       "2025-06-20        0.000000  0.000000  0.000000  0.000000  0.000000  0.000000   \n",
       "2025-06-23        0.000000  0.000000  0.000000  0.000000  0.000000  0.000000   \n",
       "2025-06-24        0.000000  0.000000  0.000000  0.000000  0.000000  0.000000   \n",
       "2025-06-25        0.000000  0.000000  0.000000  0.000000  0.000000  0.000000   \n",
       "2025-06-26        0.000000  0.000000  0.000000  0.000000  0.000000  0.000000   \n",
       "\n",
       "expiration_date                                          ... 2026-12-18  \\\n",
       "K                 2665.0    2670.0    2675.0    2680.0   ...    7000.0    \n",
       "ts_event                                                 ...              \n",
       "2018-05-14      -0.098853 -0.096837 -0.090035 -0.081105  ...        0.0   \n",
       "2018-05-15      -0.083398 -0.075017 -0.064970 -0.058336  ...        0.0   \n",
       "2018-05-16      -0.057636 -0.049709 -0.044968 -0.040669  ...        0.0   \n",
       "2018-05-17      -0.062860 -0.058603 -0.053024 -0.047144  ...        0.0   \n",
       "2018-05-18      -0.065442 -0.060690 -0.055094 -0.049458  ...        0.0   \n",
       "...                   ...       ...       ...       ...  ...        ...   \n",
       "2025-06-20       0.000000  0.000000  0.000000  0.000000  ...        0.0   \n",
       "2025-06-23       0.000000  0.000000  0.000000  0.000000  ...        0.0   \n",
       "2025-06-24       0.000000  0.000000  0.000000  0.000000  ...        0.0   \n",
       "2025-06-25       0.000000  0.000000  0.000000  0.000000  ...        0.0   \n",
       "2025-06-26       0.000000  0.000000  0.000000  0.000000  ...        0.0   \n",
       "\n",
       "expiration_date                                             2027-12-17  \\\n",
       "K               7400.0    7500.0  7800.0  8000.0    8500.0     7000.0    \n",
       "ts_event                                                                 \n",
       "2018-05-14          0.0  0.000000     0.0     0.0  0.000000        0.0   \n",
       "2018-05-15          0.0  0.000000     0.0     0.0  0.000000        0.0   \n",
       "2018-05-16          0.0  0.000000     0.0     0.0  0.000000        0.0   \n",
       "2018-05-17          0.0  0.000000     0.0     0.0  0.000000        0.0   \n",
       "2018-05-18          0.0  0.000000     0.0     0.0  0.000000        0.0   \n",
       "...                 ...       ...     ...     ...       ...        ...   \n",
       "2025-06-20          0.0  0.052356     0.0     0.0  0.028661        0.0   \n",
       "2025-06-23          0.0  0.000000     0.0     0.0  0.021630        0.0   \n",
       "2025-06-24          0.0  0.000000     0.0     0.0  0.000000        0.0   \n",
       "2025-06-25          0.0  0.000000     0.0     0.0  0.000000        0.0   \n",
       "2025-06-26          0.0  0.000000     0.0     0.0  0.000000        0.0   \n",
       "\n",
       "expiration_date                   2028-12-15  \n",
       "K               7500.0    8000.0     10000.0  \n",
       "ts_event                                      \n",
       "2018-05-14          0.0  0.000000        0.0  \n",
       "2018-05-15          0.0  0.000000        0.0  \n",
       "2018-05-16          0.0  0.000000        0.0  \n",
       "2018-05-17          0.0  0.000000        0.0  \n",
       "2018-05-18          0.0  0.000000        0.0  \n",
       "...                 ...       ...        ...  \n",
       "2025-06-20          0.0  0.073727        0.0  \n",
       "2025-06-23          0.0  0.056230        0.0  \n",
       "2025-06-24          0.0  0.000000        0.0  \n",
       "2025-06-25          0.0  0.000000        0.0  \n",
       "2025-06-26          0.0  0.000000        0.0  \n",
       "\n",
       "[1859 rows x 4914 columns]"
      ]
     },
     "execution_count": 34,
     "metadata": {},
     "output_type": "execute_result"
    }
   ],
   "source": [
    "distribution_horizontal"
   ]
  },
  {
   "cell_type": "code",
   "execution_count": null,
   "id": "595e3e93",
   "metadata": {},
   "outputs": [],
   "source": []
  },
  {
   "cell_type": "markdown",
   "id": "f368b45c",
   "metadata": {},
   "source": [
    "## Rollout "
   ]
  },
  {
   "cell_type": "code",
   "execution_count": null,
   "id": "a876331b",
   "metadata": {},
   "outputs": [],
   "source": [
    "data = pd.read_csv('../results/HedgingDistribution.csv', index_col=0, parse_dates=True)"
   ]
  }
 ],
 "metadata": {
  "kernelspec": {
   "display_name": ".venv",
   "language": "python",
   "name": "python3"
  },
  "language_info": {
   "codemirror_mode": {
    "name": "ipython",
    "version": 3
   },
   "file_extension": ".py",
   "mimetype": "text/x-python",
   "name": "python",
   "nbconvert_exporter": "python",
   "pygments_lexer": "ipython3",
   "version": "3.13.2"
  }
 },
 "nbformat": 4,
 "nbformat_minor": 5
}
