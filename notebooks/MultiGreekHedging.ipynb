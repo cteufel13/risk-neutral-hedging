{
 "cells": [
  {
   "cell_type": "markdown",
   "id": "fdc13cff",
   "metadata": {},
   "source": [
    "# Multi Greek Hedging"
   ]
  },
  {
   "cell_type": "code",
   "execution_count": null,
   "id": "35ad1a9c",
   "metadata": {},
   "outputs": [],
   "source": [
    "import sys\n",
    "sys.path.append(\"..\")\n",
    "import pandas as pd\n",
    "import numpy as np\n",
    "\n",
    "from utils.process import process_options,process_underlying,process_rf\n",
    "from utils.greeks import delta, gamma, vega, theta, rho\n",
    "from utils.implied_volatility import implied_vol_b76\n",
    "from tqdm import tqdm\n",
    "\n",
    "tqdm.pandas()\n"
   ]
  },
  {
   "cell_type": "code",
   "execution_count": null,
   "id": "cacb841a",
   "metadata": {},
   "outputs": [],
   "source": [
    "option_data = pd.read_csv(\"../data/SPYOPT_processed.csv\",parse_dates=True)\n",
    "underlying = pd.read_csv(\"../data/SPYFUT_processed.csv\",parse_dates=True).rename(columns={'close': 'futures_close'})\n",
    "rf_rate = pd.read_csv(\"../data/RFRate.csv\", parse_dates=True).rename(columns={'rate': 'rf_rate'})"
   ]
  },
  {
   "cell_type": "code",
   "execution_count": null,
   "id": "5c0a3e89",
   "metadata": {},
   "outputs": [],
   "source": [
    "all_data = pd.merge(option_data, \n",
    "                    underlying[['ts_event', 'expiration_date', 'futures_close']], \n",
    "                    on=['ts_event', 'expiration_date'], \n",
    "                    how='left')\n",
    "\n",
    "all_data = pd.merge(all_data, \n",
    "                    rf_rate[['ts_event', 'rf_rate']], \n",
    "                    on='ts_event', \n",
    "                    how='left')\n",
    "\n",
    "all_data['rf_rate'] = all_data['rf_rate'].ffill().bfill()\n",
    "all_data['rf_rate'] = 12 *np.log(1 + all_data['rf_rate']/1200)\n",
    "\n",
    "all_data['ts_event'] = pd.to_datetime(all_data['ts_event'])\n",
    "all_data['expiration_date'] = pd.to_datetime(all_data['expiration_date'])\n",
    "\n",
    "all_data = all_data.set_index('ts_event')\n",
    "\n",
    "all_data['futures_close'] = all_data['futures_close'].ffill()\n",
    "\n",
    "all_data = all_data.reset_index()\n",
    "\n",
    "all_data = all_data.drop(columns=['open', 'high', 'low', 'volume'])\n",
    "\n",
    "all_data = all_data.rename(columns={'close': 'Value','futures_close': 'S','rf_rate': 'r','strike': 'K'})\n",
    "\n",
    "\n",
    "all_data['T'] = (all_data['expiration_date'] - all_data['ts_event']).dt.days / 365.0"
   ]
  },
  {
   "cell_type": "markdown",
   "id": "59901f59",
   "metadata": {},
   "source": [
    "# Preparing Data\n",
    "\n",
    "Since we are going to just be dealing with calls, we can filter out all the puts that are being traded."
   ]
  },
  {
   "cell_type": "code",
   "execution_count": null,
   "id": "2704ecd9",
   "metadata": {},
   "outputs": [],
   "source": [
    "#Reindexing\n",
    "def grouper1(group):\n",
    "    start_date = group['ts_event'].min()\n",
    "    end_date = group['ts_event'].max()\n",
    "    group = group.set_index('ts_event').reindex(pd.date_range(start=start_date, end=end_date, freq='D')).reset_index()\n",
    "    group['option_type'] = group['option_type'].ffill()\n",
    "    group['K'] = group['K'].ffill()\n",
    "    group['expiration_date'] = group['expiration_date'].ffill()\n",
    "    return group\n",
    "\n",
    "def filter1(group):\n",
    "    if len(group) < 10:\n",
    "        return False\n",
    "    \n",
    "    S0    = group['S'].iloc[0]                      # spot\n",
    "    K     = group['K'].iloc[0]\n",
    "    T    = group['T'].iloc[0]                      # time to maturity\n",
    "    r = group['r'].iloc[0]                      # risk-free rate\n",
    "    upper = S0 *np.exp(r*T + 1.64*0.2*np.sqrt(T))  # upper bound\n",
    "    lower = S0 *np.exp(r*T - 1.64*0.2*np.sqrt(T))  # lower bound\n",
    "    return (upper >= K >= lower)\n",
    "    \n",
    "\n",
    "all_data = all_data.groupby(['expiration_date','K','option_type']).filter(filter1).groupby(['expiration_date','K','option_type']).progress_apply(grouper1)"
   ]
  },
  {
   "cell_type": "markdown",
   "id": "e9313d20",
   "metadata": {},
   "source": [
    "To accurately do the Greek hedging, you need to have the values for all greeks for each outstanding option at each time point.\n",
    "\n",
    "Basically we need a big Tensor of shape  $ G \\in\\mathbb{R}^{n\\times m\\times d}$ with $n$ = timesteps (trading days), $m$ = outstanding options (strike prices and expiration dates), $d$ the greeks (delta,gamma,vega,theta,rho)"
   ]
  },
  {
   "cell_type": "markdown",
   "id": "b52930b2",
   "metadata": {},
   "source": [
    "#### Small Cells"
   ]
  },
  {
   "cell_type": "code",
   "execution_count": null,
   "id": "f9a43ca4",
   "metadata": {},
   "outputs": [],
   "source": [
    "all_data = all_data.reset_index(drop=True).rename(columns={'index': 'ts_event'})"
   ]
  },
  {
   "cell_type": "code",
   "execution_count": null,
   "id": "bb4f2d26",
   "metadata": {},
   "outputs": [],
   "source": [
    "all_data['r'] = all_data['r'].ffill()\n",
    "all_data['T'] = (all_data['expiration_date'] - all_data['ts_event']).dt.days / 365.0"
   ]
  },
  {
   "cell_type": "code",
   "execution_count": null,
   "id": "a7af88d9",
   "metadata": {},
   "outputs": [],
   "source": [
    "underlying['ts_event'] = pd.to_datetime(underlying['ts_event'])\n",
    "underlying['expiration_date'] = pd.to_datetime(underlying['expiration_date'])"
   ]
  },
  {
   "cell_type": "code",
   "execution_count": null,
   "id": "7cc4acf4",
   "metadata": {},
   "outputs": [],
   "source": [
    "all_data = pd.merge(all_data, \n",
    "                    underlying[['ts_event', 'expiration_date', 'futures_close']], \n",
    "                    on=['ts_event', 'expiration_date'], \n",
    "                    how='left')\n",
    "all_data['S'] = all_data['S'].fillna(all_data['futures_close'])\n",
    "all_data = all_data.drop(columns=['futures_close'])\n"
   ]
  },
  {
   "cell_type": "code",
   "execution_count": null,
   "id": "4e462b07",
   "metadata": {},
   "outputs": [],
   "source": [
    "all_data = all_data[ all_data['ts_event'].dt.dayofweek < 5 ]"
   ]
  },
  {
   "cell_type": "code",
   "execution_count": null,
   "id": "6da73740",
   "metadata": {},
   "outputs": [],
   "source": [
    "def grouper2(group):\n",
    "    group['S'] = group['S'].interpolate(method='spline', order=3)\n",
    "    group['Value'] = group['Value'].interpolate(method='spline', order=3)\n",
    "    return group\n",
    "\n",
    "all_data = all_data.groupby(['expiration_date', 'K', 'option_type']).progress_apply(grouper2).reset_index(drop=True)\n"
   ]
  },
  {
   "cell_type": "markdown",
   "id": "f2052454",
   "metadata": {},
   "source": [
    "#### Splitting to Calls"
   ]
  },
  {
   "cell_type": "code",
   "execution_count": null,
   "id": "caaba3c2",
   "metadata": {},
   "outputs": [],
   "source": [
    "calls_data = all_data[all_data['option_type'] == 'C']"
   ]
  },
  {
   "cell_type": "code",
   "execution_count": null,
   "id": "12f76657",
   "metadata": {},
   "outputs": [],
   "source": [
    "calls_data['IV'] = calls_data.progress_apply(lambda row: implied_vol_b76(row['S'], row['K'], row['T'], row['r'], row['Value'], row['option_type']), axis=1)"
   ]
  },
  {
   "cell_type": "code",
   "execution_count": null,
   "id": "fe8a3486",
   "metadata": {},
   "outputs": [],
   "source": [
    "\n"
   ]
  },
  {
   "cell_type": "code",
   "execution_count": null,
   "id": "c3c8bec4",
   "metadata": {},
   "outputs": [],
   "source": [
    "calls_data"
   ]
  },
  {
   "cell_type": "code",
   "execution_count": null,
   "id": "4468ece3",
   "metadata": {},
   "outputs": [],
   "source": []
  }
 ],
 "metadata": {
  "kernelspec": {
   "display_name": ".venv",
   "language": "python",
   "name": "python3"
  },
  "language_info": {
   "codemirror_mode": {
    "name": "ipython",
    "version": 3
   },
   "file_extension": ".py",
   "mimetype": "text/x-python",
   "name": "python",
   "nbconvert_exporter": "python",
   "pygments_lexer": "ipython3",
   "version": "3.13.2"
  }
 },
 "nbformat": 4,
 "nbformat_minor": 5
}
