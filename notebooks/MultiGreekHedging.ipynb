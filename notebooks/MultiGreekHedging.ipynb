{
 "cells": [
  {
   "cell_type": "markdown",
   "id": "fdc13cff",
   "metadata": {},
   "source": [
    "# Multi Greek Hedging"
   ]
  },
  {
   "cell_type": "code",
   "execution_count": 2,
   "id": "35ad1a9c",
   "metadata": {},
   "outputs": [],
   "source": [
    "import sys\n",
    "sys.path.append(\"..\")\n",
    "import pandas as pd\n",
    "import numpy as np\n",
    "\n",
    "from utils.process import process_options,process_underlying,process_rf\n",
    "from utils.greeks import delta, gamma, vega, theta, rho\n",
    "from utils.implied_volatility import implied_vol_b76\n",
    "from tqdm import tqdm\n",
    "\n",
    "tqdm.pandas()\n"
   ]
  },
  {
   "cell_type": "code",
   "execution_count": 3,
   "id": "cacb841a",
   "metadata": {},
   "outputs": [],
   "source": [
    "option_data = pd.read_csv(\"../data/SPYOPT_processed.csv\",parse_dates=True)\n",
    "underlying = pd.read_csv(\"../data/SPYFUT_processed.csv\",parse_dates=True).rename(columns={'close': 'futures_close'})\n",
    "rf_rate = pd.read_csv(\"../data/RFRate.csv\", parse_dates=True).rename(columns={'rate': 'rf_rate'})"
   ]
  },
  {
   "cell_type": "code",
   "execution_count": 4,
   "id": "988f1c7f",
   "metadata": {},
   "outputs": [],
   "source": [
    "underlying['ts_event'] = pd.to_datetime(underlying['ts_event'])\n",
    "underlying['expiration_date'] = pd.to_datetime(underlying['expiration_date'])\n",
    "rf_rate['ts_event'] = pd.to_datetime(rf_rate['ts_event'])\n",
    "option_data['ts_event'] = pd.to_datetime(option_data['ts_event'])\n",
    "option_data['expiration_date'] = pd.to_datetime(option_data['expiration_date'])"
   ]
  },
  {
   "cell_type": "code",
   "execution_count": 5,
   "id": "bbb9f7e5",
   "metadata": {},
   "outputs": [
    {
     "name": "stderr",
     "output_type": "stream",
     "text": [
      "/var/folders/7k/ytnljb093xg6bbfksvnhyg940000gn/T/ipykernel_85311/488342671.py:8: FutureWarning: DataFrameGroupBy.apply operated on the grouping columns. This behavior is deprecated, and in a future version of pandas the grouping columns will be excluded from the operation. Either pass `include_groups=False` to exclude the groupings or explicitly select the grouping columns after groupby to silence this warning.\n",
      "  .apply(next_valid_exp)\n"
     ]
    }
   ],
   "source": [
    "def next_valid_exp(group):\n",
    "    cutoff = group.name + pd.Timedelta(days=7)\n",
    "    cands  = group.loc[group['expiration_date'] >= cutoff, 'expiration_date']\n",
    "    return cands.min()\n",
    "\n",
    "exp_map = (underlying\n",
    "           .groupby('ts_event')\n",
    "           .apply(next_valid_exp)\n",
    "           .reset_index()\n",
    "           .rename(columns={0: 'futures_expiration'}))\n",
    "\n",
    "fut_lookup = (\n",
    "    underlying\n",
    "    .merge(exp_map,\n",
    "           left_on=['ts_event','expiration_date'],\n",
    "           right_on=['ts_event','futures_expiration'],\n",
    "           how='inner')\n",
    "    [['ts_event','futures_expiration','futures_close']]\n",
    ").set_index('ts_event')"
   ]
  },
  {
   "cell_type": "code",
   "execution_count": 6,
   "id": "5c0a3e89",
   "metadata": {},
   "outputs": [],
   "source": [
    "all_data = (\n",
    "    option_data\n",
    "    .merge(exp_map,      on='ts_event', how='left')\n",
    "    .merge(fut_lookup,\n",
    "           left_on=['ts_event','futures_expiration'],\n",
    "           right_on=['ts_event','futures_expiration'],\n",
    "           how='left')\n",
    ").drop(columns=['futures_expiration'])\n",
    "\n",
    "all_data = pd.merge(all_data, \n",
    "                    rf_rate[['ts_event', 'rf_rate']], \n",
    "                    on='ts_event', \n",
    "                    how='left')\n",
    "\n",
    "all_data['rf_rate'] = all_data['rf_rate'].ffill().bfill()\n",
    "all_data['rf_rate'] = 12 *np.log(1 + all_data['rf_rate']/1200)\n",
    "\n",
    "all_data['ts_event'] = pd.to_datetime(all_data['ts_event'])\n",
    "all_data['expiration_date'] = pd.to_datetime(all_data['expiration_date'])\n",
    "\n",
    "all_data = all_data.set_index('ts_event')\n",
    "\n",
    "all_data['futures_close'] = all_data['futures_close'].ffill()\n",
    "\n",
    "all_data = all_data.reset_index()\n",
    "\n",
    "all_data = all_data.drop(columns=['open', 'high', 'low', 'volume'])\n",
    "\n",
    "all_data = all_data.rename(columns={'close': 'Value','futures_close': 'S','rf_rate': 'r','strike': 'K'})\n",
    "\n",
    "\n",
    "all_data['T'] = (all_data['expiration_date'] - all_data['ts_event']).dt.days / 365.0"
   ]
  },
  {
   "cell_type": "markdown",
   "id": "59901f59",
   "metadata": {},
   "source": [
    "# Preparing Data\n",
    "\n",
    "Since we are going to just be dealing with calls, we can filter out all the puts that are being traded."
   ]
  },
  {
   "cell_type": "code",
   "execution_count": 7,
   "id": "3716e085",
   "metadata": {},
   "outputs": [
    {
     "data": {
      "text/html": [
       "<div>\n",
       "<style scoped>\n",
       "    .dataframe tbody tr th:only-of-type {\n",
       "        vertical-align: middle;\n",
       "    }\n",
       "\n",
       "    .dataframe tbody tr th {\n",
       "        vertical-align: top;\n",
       "    }\n",
       "\n",
       "    .dataframe thead th {\n",
       "        text-align: right;\n",
       "    }\n",
       "</style>\n",
       "<table border=\"1\" class=\"dataframe\">\n",
       "  <thead>\n",
       "    <tr style=\"text-align: right;\">\n",
       "      <th></th>\n",
       "      <th>ts_event</th>\n",
       "      <th>Value</th>\n",
       "      <th>option_type</th>\n",
       "      <th>K</th>\n",
       "      <th>expiration_date</th>\n",
       "      <th>S</th>\n",
       "      <th>r</th>\n",
       "      <th>T</th>\n",
       "    </tr>\n",
       "  </thead>\n",
       "  <tbody>\n",
       "    <tr>\n",
       "      <th>0</th>\n",
       "      <td>2018-05-13</td>\n",
       "      <td>3.50</td>\n",
       "      <td>P</td>\n",
       "      <td>2505</td>\n",
       "      <td>2018-06-15</td>\n",
       "      <td>2736.25</td>\n",
       "      <td>0.016988</td>\n",
       "      <td>0.090411</td>\n",
       "    </tr>\n",
       "    <tr>\n",
       "      <th>1</th>\n",
       "      <td>2018-05-13</td>\n",
       "      <td>40.50</td>\n",
       "      <td>C</td>\n",
       "      <td>2725</td>\n",
       "      <td>2018-06-15</td>\n",
       "      <td>2736.25</td>\n",
       "      <td>0.016988</td>\n",
       "      <td>0.090411</td>\n",
       "    </tr>\n",
       "    <tr>\n",
       "      <th>2</th>\n",
       "      <td>2018-05-13</td>\n",
       "      <td>23.75</td>\n",
       "      <td>P</td>\n",
       "      <td>2705</td>\n",
       "      <td>2018-06-15</td>\n",
       "      <td>2736.25</td>\n",
       "      <td>0.016988</td>\n",
       "      <td>0.090411</td>\n",
       "    </tr>\n",
       "    <tr>\n",
       "      <th>3</th>\n",
       "      <td>2018-05-13</td>\n",
       "      <td>17.50</td>\n",
       "      <td>P</td>\n",
       "      <td>2680</td>\n",
       "      <td>2018-06-15</td>\n",
       "      <td>2736.25</td>\n",
       "      <td>0.016988</td>\n",
       "      <td>0.090411</td>\n",
       "    </tr>\n",
       "    <tr>\n",
       "      <th>4</th>\n",
       "      <td>2018-05-13</td>\n",
       "      <td>13.25</td>\n",
       "      <td>P</td>\n",
       "      <td>2655</td>\n",
       "      <td>2018-06-15</td>\n",
       "      <td>2736.25</td>\n",
       "      <td>0.016988</td>\n",
       "      <td>0.090411</td>\n",
       "    </tr>\n",
       "    <tr>\n",
       "      <th>...</th>\n",
       "      <td>...</td>\n",
       "      <td>...</td>\n",
       "      <td>...</td>\n",
       "      <td>...</td>\n",
       "      <td>...</td>\n",
       "      <td>...</td>\n",
       "      <td>...</td>\n",
       "      <td>...</td>\n",
       "    </tr>\n",
       "    <tr>\n",
       "      <th>841095</th>\n",
       "      <td>2025-06-26</td>\n",
       "      <td>13.75</td>\n",
       "      <td>P</td>\n",
       "      <td>4800</td>\n",
       "      <td>2025-09-19</td>\n",
       "      <td>6196.50</td>\n",
       "      <td>0.041030</td>\n",
       "      <td>0.232877</td>\n",
       "    </tr>\n",
       "    <tr>\n",
       "      <th>841096</th>\n",
       "      <td>2025-06-26</td>\n",
       "      <td>441.25</td>\n",
       "      <td>C</td>\n",
       "      <td>6100</td>\n",
       "      <td>2026-03-20</td>\n",
       "      <td>6196.50</td>\n",
       "      <td>0.041030</td>\n",
       "      <td>0.731507</td>\n",
       "    </tr>\n",
       "    <tr>\n",
       "      <th>841097</th>\n",
       "      <td>2025-06-26</td>\n",
       "      <td>1.50</td>\n",
       "      <td>P</td>\n",
       "      <td>2700</td>\n",
       "      <td>2025-09-19</td>\n",
       "      <td>6196.50</td>\n",
       "      <td>0.041030</td>\n",
       "      <td>0.232877</td>\n",
       "    </tr>\n",
       "    <tr>\n",
       "      <th>841098</th>\n",
       "      <td>2025-06-26</td>\n",
       "      <td>29.25</td>\n",
       "      <td>P</td>\n",
       "      <td>5300</td>\n",
       "      <td>2025-09-19</td>\n",
       "      <td>6196.50</td>\n",
       "      <td>0.041030</td>\n",
       "      <td>0.232877</td>\n",
       "    </tr>\n",
       "    <tr>\n",
       "      <th>841099</th>\n",
       "      <td>2025-06-26</td>\n",
       "      <td>130.50</td>\n",
       "      <td>C</td>\n",
       "      <td>6500</td>\n",
       "      <td>2025-12-19</td>\n",
       "      <td>6196.50</td>\n",
       "      <td>0.041030</td>\n",
       "      <td>0.482192</td>\n",
       "    </tr>\n",
       "  </tbody>\n",
       "</table>\n",
       "<p>841100 rows × 8 columns</p>\n",
       "</div>"
      ],
      "text/plain": [
       "         ts_event   Value option_type     K expiration_date        S  \\\n",
       "0      2018-05-13    3.50           P  2505      2018-06-15  2736.25   \n",
       "1      2018-05-13   40.50           C  2725      2018-06-15  2736.25   \n",
       "2      2018-05-13   23.75           P  2705      2018-06-15  2736.25   \n",
       "3      2018-05-13   17.50           P  2680      2018-06-15  2736.25   \n",
       "4      2018-05-13   13.25           P  2655      2018-06-15  2736.25   \n",
       "...           ...     ...         ...   ...             ...      ...   \n",
       "841095 2025-06-26   13.75           P  4800      2025-09-19  6196.50   \n",
       "841096 2025-06-26  441.25           C  6100      2026-03-20  6196.50   \n",
       "841097 2025-06-26    1.50           P  2700      2025-09-19  6196.50   \n",
       "841098 2025-06-26   29.25           P  5300      2025-09-19  6196.50   \n",
       "841099 2025-06-26  130.50           C  6500      2025-12-19  6196.50   \n",
       "\n",
       "               r         T  \n",
       "0       0.016988  0.090411  \n",
       "1       0.016988  0.090411  \n",
       "2       0.016988  0.090411  \n",
       "3       0.016988  0.090411  \n",
       "4       0.016988  0.090411  \n",
       "...          ...       ...  \n",
       "841095  0.041030  0.232877  \n",
       "841096  0.041030  0.731507  \n",
       "841097  0.041030  0.232877  \n",
       "841098  0.041030  0.232877  \n",
       "841099  0.041030  0.482192  \n",
       "\n",
       "[841100 rows x 8 columns]"
      ]
     },
     "execution_count": 7,
     "metadata": {},
     "output_type": "execute_result"
    }
   ],
   "source": [
    "all_data"
   ]
  },
  {
   "cell_type": "code",
   "execution_count": 8,
   "id": "2704ecd9",
   "metadata": {},
   "outputs": [
    {
     "name": "stderr",
     "output_type": "stream",
     "text": [
      " 97%|█████████▋| 2495/2581 [00:01<00:00, 1660.26it/s]/Users/carloteufel/Documents/Projects/risk-neutral-hedging/.venv/lib/python3.13/site-packages/tqdm/std.py:917: FutureWarning: DataFrameGroupBy.apply operated on the grouping columns. This behavior is deprecated, and in a future version of pandas the grouping columns will be excluded from the operation. Either pass `include_groups=False` to exclude the groupings or explicitly select the grouping columns after groupby to silence this warning.\n",
      "  return getattr(df, df_function)(wrapper, **kwargs)\n",
      "100%|██████████| 2581/2581 [00:01<00:00, 1454.10it/s]\n"
     ]
    }
   ],
   "source": [
    "#Reindexing\n",
    "def grouper1(group):\n",
    "    start_date = group['ts_event'].min()\n",
    "    end_date = group['ts_event'].max()\n",
    "    group = group.set_index('ts_event').reindex(pd.date_range(start=start_date, end=end_date, freq='D')).reset_index()\n",
    "    group['option_type'] = group['option_type'].ffill()\n",
    "    group['K'] = group['K'].ffill()\n",
    "    group['expiration_date'] = group['expiration_date'].ffill()\n",
    "    return group\n",
    "\n",
    "def filter1(group):\n",
    "    if len(group) < 10:\n",
    "        return False\n",
    "    \n",
    "    S0    = group['S'].iloc[0]                      # spot\n",
    "    K     = group['K'].iloc[0]\n",
    "    T    = group['T'].iloc[0]                      # time to maturity\n",
    "    r = group['r'].iloc[0]                      # risk-free rate\n",
    "    upper = S0 *np.exp(r*T + 0.05*np.sqrt(T))  # upper bound\n",
    "    lower = S0 *np.exp(r*T - 0.05*np.sqrt(T))  # lower bound\n",
    "    return (upper >= K >= lower)\n",
    "    \n",
    "\n",
    "all_data = all_data.groupby(['expiration_date','K','option_type']).filter(filter1).groupby(['expiration_date','K','option_type']).progress_apply(grouper1)"
   ]
  },
  {
   "cell_type": "markdown",
   "id": "e9313d20",
   "metadata": {},
   "source": [
    "To accurately do the Greek hedging, you need to have the values for all greeks for each outstanding option at each time point.\n",
    "\n",
    "Basically we need a big Tensor of shape  $ G \\in\\mathbb{R}^{n\\times m\\times d}$ with $n$ = timesteps (trading days), $m$ = outstanding options (strike prices and expiration dates), $d$ the greeks (delta,gamma,vega,theta,rho)"
   ]
  },
  {
   "cell_type": "markdown",
   "id": "b52930b2",
   "metadata": {},
   "source": [
    "#### Small Cells"
   ]
  },
  {
   "cell_type": "code",
   "execution_count": 9,
   "id": "f9a43ca4",
   "metadata": {},
   "outputs": [],
   "source": [
    "all_data = all_data.reset_index(drop=True).rename(columns={'index': 'ts_event'})"
   ]
  },
  {
   "cell_type": "code",
   "execution_count": 10,
   "id": "bb4f2d26",
   "metadata": {},
   "outputs": [],
   "source": [
    "all_data['r'] = all_data['r'].ffill()\n",
    "all_data['T'] = (all_data['expiration_date'] - all_data['ts_event']).dt.days / 365.0"
   ]
  },
  {
   "cell_type": "code",
   "execution_count": 11,
   "id": "a7af88d9",
   "metadata": {},
   "outputs": [],
   "source": [
    "underlying['ts_event'] = pd.to_datetime(underlying['ts_event'])\n",
    "underlying['expiration_date'] = pd.to_datetime(underlying['expiration_date'])"
   ]
  },
  {
   "cell_type": "code",
   "execution_count": 12,
   "id": "7cc4acf4",
   "metadata": {},
   "outputs": [],
   "source": [
    "all_data = pd.merge(all_data, \n",
    "                    underlying[['ts_event', 'expiration_date', 'futures_close']], \n",
    "                    on=['ts_event', 'expiration_date'], \n",
    "                    how='left')\n",
    "all_data['S'] = all_data['S'].fillna(all_data['futures_close'])\n",
    "all_data = all_data.drop(columns=['futures_close'])\n"
   ]
  },
  {
   "cell_type": "code",
   "execution_count": 13,
   "id": "4e462b07",
   "metadata": {},
   "outputs": [],
   "source": [
    "all_data = all_data[ all_data['ts_event'].dt.dayofweek < 5 ]"
   ]
  },
  {
   "cell_type": "code",
   "execution_count": 14,
   "id": "6da73740",
   "metadata": {},
   "outputs": [
    {
     "name": "stderr",
     "output_type": "stream",
     "text": [
      " 22%|██▏       | 571/2581 [00:01<00:06, 302.85it/s] /Users/carloteufel/Documents/Projects/risk-neutral-hedging/.venv/lib/python3.13/site-packages/pandas/core/missing.py:604: UserWarning: \n",
      "The maximal number of iterations maxit (set to 20 by the program)\n",
      "allowed for finding a smoothing spline with fp=s has been reached: s\n",
      "too small.\n",
      "There is an approximation returned but the corresponding weighted sum\n",
      "of squared residuals does not satisfy the condition abs(fp-s)/s < tol.\n",
      "  terp = interpolate.UnivariateSpline(x, y, k=order, **kwargs)\n",
      " 98%|█████████▊| 2523/2581 [00:05<00:00, 352.69it/s]/Users/carloteufel/Documents/Projects/risk-neutral-hedging/.venv/lib/python3.13/site-packages/tqdm/std.py:917: FutureWarning: DataFrameGroupBy.apply operated on the grouping columns. This behavior is deprecated, and in a future version of pandas the grouping columns will be excluded from the operation. Either pass `include_groups=False` to exclude the groupings or explicitly select the grouping columns after groupby to silence this warning.\n",
      "  return getattr(df, df_function)(wrapper, **kwargs)\n",
      "100%|██████████| 2581/2581 [00:06<00:00, 411.67it/s]\n"
     ]
    }
   ],
   "source": [
    "def grouper2(group):\n",
    "    group['S'] = group['S'].interpolate(method='spline', order=1)\n",
    "    group['Value'] = group['Value'].interpolate(method='spline', order=1)\n",
    "    return group\n",
    "\n",
    "all_data = all_data.groupby(['expiration_date', 'K', 'option_type']).progress_apply(grouper2).reset_index(drop=True)\n"
   ]
  },
  {
   "cell_type": "markdown",
   "id": "f2052454",
   "metadata": {},
   "source": [
    "#### Splitting to Calls"
   ]
  },
  {
   "cell_type": "code",
   "execution_count": 15,
   "id": "caaba3c2",
   "metadata": {},
   "outputs": [],
   "source": [
    "calls_data = all_data[all_data['option_type'] == 'C']"
   ]
  },
  {
   "cell_type": "code",
   "execution_count": 16,
   "id": "12f76657",
   "metadata": {},
   "outputs": [
    {
     "name": "stderr",
     "output_type": "stream",
     "text": [
      "  0%|          | 1/171477 [00:00<5:45:37,  8.27it/s]/Users/carloteufel/Documents/Projects/risk-neutral-hedging/notebooks/../utils/implied_volatility.py:29: RuntimeWarning: divide by zero encountered in scalar divide\n",
      "  d1 = (np.log(F / K) + 0.5 * sigma**2 * T) / (sigma * np.sqrt(T))\n",
      "  9%|▊         | 14616/171477 [00:06<01:17, 2024.81it/s]/Users/carloteufel/Documents/Projects/risk-neutral-hedging/notebooks/../utils/implied_volatility.py:29: RuntimeWarning: invalid value encountered in scalar divide\n",
      "  d1 = (np.log(F / K) + 0.5 * sigma**2 * T) / (sigma * np.sqrt(T))\n",
      "100%|██████████| 171477/171477 [01:19<00:00, 2150.06it/s]\n",
      "/var/folders/7k/ytnljb093xg6bbfksvnhyg940000gn/T/ipykernel_85311/2625644187.py:1: SettingWithCopyWarning: \n",
      "A value is trying to be set on a copy of a slice from a DataFrame.\n",
      "Try using .loc[row_indexer,col_indexer] = value instead\n",
      "\n",
      "See the caveats in the documentation: https://pandas.pydata.org/pandas-docs/stable/user_guide/indexing.html#returning-a-view-versus-a-copy\n",
      "  calls_data['IV'] = calls_data.progress_apply(lambda row: implied_vol_b76(row['S'], row['K'], row['T'], row['r'], row['Value'], row['option_type']), axis=1)\n"
     ]
    }
   ],
   "source": [
    "calls_data['IV'] = calls_data.progress_apply(lambda row: implied_vol_b76(row['S'], row['K'], row['T'], row['r'], row['Value'], row['option_type']), axis=1)"
   ]
  },
  {
   "cell_type": "code",
   "execution_count": 17,
   "id": "a5b4dabe",
   "metadata": {},
   "outputs": [],
   "source": [
    "def grouper3(group):\n",
    "    vol_surface = group.pivot(index='K', columns='T', values='IV')\n",
    "    vol_surface = vol_surface.sort_index().sort_index(axis=1)\n",
    "\n",
    "    # Interpolate along strikes and maturities\n",
    "    vol_surface = vol_surface.interpolate(axis=0, method='linear')\n",
    "    vol_surface = vol_surface.interpolate(axis=1, method='linear')\n",
    "\n",
    "    # Edge-fill any remaining NaNs\n",
    "    vol_surface = vol_surface.ffill(axis=0).bfill(axis=0)\n",
    "    vol_surface = vol_surface.ffill(axis=1).bfill(axis=1)\n",
    "\n",
    "    filled_df = vol_surface.stack().rename('IV').reset_index()\n",
    "\n",
    "    # Map interpolated values back into original DataFrame\n",
    "    iv_map = filled_df.set_index(['K', 'T'])['IV']\n",
    "    group['IV'] = group.set_index(['K', 'T'])['IV'].fillna(iv_map).values\n",
    "    return group\n"
   ]
  },
  {
   "cell_type": "code",
   "execution_count": 18,
   "id": "fe8a3486",
   "metadata": {},
   "outputs": [
    {
     "name": "stderr",
     "output_type": "stream",
     "text": [
      "100%|█████████▉| 1857/1859 [00:04<00:00, 415.80it/s]/Users/carloteufel/Documents/Projects/risk-neutral-hedging/.venv/lib/python3.13/site-packages/tqdm/std.py:917: FutureWarning: DataFrameGroupBy.apply operated on the grouping columns. This behavior is deprecated, and in a future version of pandas the grouping columns will be excluded from the operation. Either pass `include_groups=False` to exclude the groupings or explicitly select the grouping columns after groupby to silence this warning.\n",
      "  return getattr(df, df_function)(wrapper, **kwargs)\n",
      "100%|██████████| 1859/1859 [00:04<00:00, 412.45it/s]\n"
     ]
    }
   ],
   "source": [
    "calls_data = calls_data.groupby(['ts_event']).progress_apply(grouper3)"
   ]
  },
  {
   "cell_type": "markdown",
   "id": "942575f4",
   "metadata": {},
   "source": [
    "#### Add Greeks"
   ]
  },
  {
   "cell_type": "code",
   "execution_count": 19,
   "id": "58fbb9dd",
   "metadata": {},
   "outputs": [
    {
     "name": "stderr",
     "output_type": "stream",
     "text": [
      "  0%|          | 1/171477 [00:00<6:04:42,  7.84it/s]/Users/carloteufel/Documents/Projects/risk-neutral-hedging/notebooks/../utils/greeks.py:6: RuntimeWarning: divide by zero encountered in scalar divide\n",
      "  return (np.log(S / K) + 0.5 * sigma**2 * T) / (sigma * np.sqrt(T))\n",
      " 16%|█▌        | 26867/171477 [00:01<00:04, 29544.13it/s]/Users/carloteufel/Documents/Projects/risk-neutral-hedging/notebooks/../utils/greeks.py:6: RuntimeWarning: invalid value encountered in scalar divide\n",
      "  return (np.log(S / K) + 0.5 * sigma**2 * T) / (sigma * np.sqrt(T))\n",
      "100%|██████████| 171477/171477 [00:05<00:00, 29070.23it/s]\n",
      "  0%|          | 1/171477 [00:00<8:31:24,  5.59it/s]/Users/carloteufel/Documents/Projects/risk-neutral-hedging/notebooks/../utils/greeks.py:6: RuntimeWarning: divide by zero encountered in scalar divide\n",
      "  return (np.log(S / K) + 0.5 * sigma**2 * T) / (sigma * np.sqrt(T))\n",
      "/Users/carloteufel/Documents/Projects/risk-neutral-hedging/notebooks/../utils/greeks.py:22: RuntimeWarning: invalid value encountered in scalar divide\n",
      "  return np.exp(-r * T) * norm.pdf(d1) / (S * sigma * np.sqrt(T))\n",
      " 16%|█▋        | 28237/171477 [00:01<00:05, 27852.65it/s]/Users/carloteufel/Documents/Projects/risk-neutral-hedging/notebooks/../utils/greeks.py:6: RuntimeWarning: invalid value encountered in scalar divide\n",
      "  return (np.log(S / K) + 0.5 * sigma**2 * T) / (sigma * np.sqrt(T))\n",
      "100%|██████████| 171477/171477 [00:06<00:00, 27379.53it/s]\n",
      "  0%|          | 1/171477 [00:00<6:04:57,  7.83it/s]/Users/carloteufel/Documents/Projects/risk-neutral-hedging/notebooks/../utils/greeks.py:6: RuntimeWarning: divide by zero encountered in scalar divide\n",
      "  return (np.log(S / K) + 0.5 * sigma**2 * T) / (sigma * np.sqrt(T))\n",
      " 17%|█▋        | 28479/171477 [00:01<00:05, 27933.92it/s]/Users/carloteufel/Documents/Projects/risk-neutral-hedging/notebooks/../utils/greeks.py:6: RuntimeWarning: invalid value encountered in scalar divide\n",
      "  return (np.log(S / K) + 0.5 * sigma**2 * T) / (sigma * np.sqrt(T))\n",
      "100%|██████████| 171477/171477 [00:06<00:00, 27564.66it/s]\n"
     ]
    }
   ],
   "source": [
    "calls_data['delta'] = calls_data.progress_apply(lambda row: delta(row['S'], row['K'], row['T'], row['r'], row['IV']), axis=1)\n",
    "calls_data['gamma'] = calls_data.progress_apply(lambda row: gamma(row['S'], row['K'], row['T'], row['r'], row['IV']), axis=1)\n",
    "calls_data['vega'] = calls_data.progress_apply(lambda row: vega(row['S'], row['K'], row['T'], row['r'], row['IV']), axis=1)\n"
   ]
  },
  {
   "cell_type": "code",
   "execution_count": 20,
   "id": "4ad4cadf",
   "metadata": {},
   "outputs": [],
   "source": [
    "calls_data.to_csv(\"../results/ALLCALLS.csv\", index=False)"
   ]
  },
  {
   "cell_type": "code",
   "execution_count": 21,
   "id": "36c2d4e3",
   "metadata": {},
   "outputs": [],
   "source": [
    "calls_data = calls_data.reset_index(drop=True)\n",
    "calls_data = calls_data[calls_data['T'] > 0.0192]\n"
   ]
  },
  {
   "cell_type": "code",
   "execution_count": 22,
   "id": "6c95bae1",
   "metadata": {},
   "outputs": [],
   "source": [
    "futures_data = calls_data[['ts_event', 'S']].drop_duplicates()\n"
   ]
  },
  {
   "cell_type": "code",
   "execution_count": 23,
   "id": "f2c66223",
   "metadata": {},
   "outputs": [],
   "source": [
    "futures_data = futures_data.dropna()"
   ]
  },
  {
   "cell_type": "code",
   "execution_count": 24,
   "id": "14f56965",
   "metadata": {},
   "outputs": [
    {
     "name": "stderr",
     "output_type": "stream",
     "text": [
      "/var/folders/7k/ytnljb093xg6bbfksvnhyg940000gn/T/ipykernel_85311/3819672697.py:1: FutureWarning: DataFrameGroupBy.apply operated on the grouping columns. This behavior is deprecated, and in a future version of pandas the grouping columns will be excluded from the operation. Either pass `include_groups=False` to exclude the groupings or explicitly select the grouping columns after groupby to silence this warning.\n",
      "  futures_data = futures_data.groupby(['ts_event']).apply(lambda x: x.mean()).reset_index(drop=True).set_index('ts_event')\n"
     ]
    }
   ],
   "source": [
    "futures_data = futures_data.groupby(['ts_event']).apply(lambda x: x.mean()).reset_index(drop=True).set_index('ts_event')"
   ]
  },
  {
   "cell_type": "code",
   "execution_count": 25,
   "id": "d734a6a7",
   "metadata": {},
   "outputs": [],
   "source": [
    "futures_data.to_csv('../results/FuturesData.csv')\n"
   ]
  },
  {
   "cell_type": "markdown",
   "id": "f368b45c",
   "metadata": {},
   "source": [
    "# Rollout "
   ]
  },
  {
   "cell_type": "code",
   "execution_count": 28,
   "id": "50bfc7f3",
   "metadata": {},
   "outputs": [],
   "source": [
    "import pandas as pd\n",
    "all_options_data = pd.read_csv('../results/ALLCALLS.csv', parse_dates=['ts_event', 'expiration_date'])"
   ]
  },
  {
   "cell_type": "code",
   "execution_count": 67,
   "id": "4fcfaa44",
   "metadata": {},
   "outputs": [],
   "source": [
    "option_expiration_date = '2024-12-20'\n",
    "option_type = 'C'\n",
    "option_strike = 4700.0"
   ]
  },
  {
   "cell_type": "code",
   "execution_count": 66,
   "id": "8556c533",
   "metadata": {},
   "outputs": [
    {
     "data": {
      "text/plain": [
       "K\n",
       "4700.0    705\n",
       "4500.0    686\n",
       "4400.0    674\n",
       "4200.0    668\n",
       "4100.0    621\n",
       "4000.0    602\n",
       "4600.0    487\n",
       "4950.0    261\n",
       "5250.0    261\n",
       "4850.0    232\n",
       "5150.0    223\n",
       "5050.0    182\n",
       "5675.0     70\n",
       "5775.0     70\n",
       "5825.0     70\n",
       "5875.0     70\n",
       "5725.0     68\n",
       "5880.0     48\n",
       "6020.0     48\n",
       "5970.0     48\n",
       "5940.0     48\n",
       "5930.0     48\n",
       "5920.0     48\n",
       "5830.0     48\n",
       "5870.0     48\n",
       "5860.0     48\n",
       "5840.0     48\n",
       "5820.0     48\n",
       "5810.0     48\n",
       "5890.0     47\n",
       "5910.0     47\n",
       "5960.0     47\n",
       "5980.0     47\n",
       "5990.0     47\n",
       "6010.0     47\n",
       "6030.0     47\n",
       "6040.0     47\n",
       "6060.0     47\n",
       "Name: count, dtype: int64"
      ]
     },
     "execution_count": 66,
     "metadata": {},
     "output_type": "execute_result"
    }
   ],
   "source": [
    "all_options_data[all_options_data['expiration_date'] == option_expiration_date]['K'].value_counts()"
   ]
  },
  {
   "cell_type": "code",
   "execution_count": 68,
   "id": "c5fdf8d4",
   "metadata": {},
   "outputs": [],
   "source": [
    "beginning_date = all_options_data[(all_options_data['expiration_date'] == option_expiration_date) & \n",
    "                                  (all_options_data['option_type'] == option_type) &\n",
    "                                (all_options_data['K'] == option_strike)]['ts_event'].min()\n",
    "\n",
    "end_date = all_options_data[(all_options_data['expiration_date'] == option_expiration_date) &\n",
    "                            (all_options_data['option_type'] == option_type) &\n",
    "                            (all_options_data['K'] == option_strike)]['ts_event'].max()\n"
   ]
  },
  {
   "cell_type": "code",
   "execution_count": 69,
   "id": "771d73fe",
   "metadata": {},
   "outputs": [],
   "source": [
    "filtered_options_data = all_options_data[    (all_options_data['ts_event'] >= beginning_date) & \n",
    "    (all_options_data['ts_event'] <= end_date)]"
   ]
  },
  {
   "cell_type": "code",
   "execution_count": 70,
   "id": "567ec4f7",
   "metadata": {},
   "outputs": [],
   "source": [
    "main_option_history = all_options_data[    (all_options_data['expiration_date'] == option_expiration_date) &\n",
    "    (all_options_data['option_type'] == option_type) &\n",
    "    (all_options_data['K'] == option_strike)]\n"
   ]
  },
  {
   "cell_type": "code",
   "execution_count": 71,
   "id": "08cc6859",
   "metadata": {},
   "outputs": [
    {
     "data": {
      "text/plain": [
       "[<matplotlib.lines.Line2D at 0x3200ed810>]"
      ]
     },
     "execution_count": 71,
     "metadata": {},
     "output_type": "execute_result"
    },
    {
     "data": {
      "image/png": "[encoded data removed]",
      "text/plain": [
       "<Figure size 1200x600 with 1 Axes>"
      ]
     },
     "metadata": {},
     "output_type": "display_data"
    }
   ],
   "source": [
    "import matplotlib.pyplot as plt\n",
    "plt.figure(figsize=(12, 6))\n",
    "plt.plot(main_option_history['ts_event'], main_option_history['Value'], label='Option Value')"
   ]
  },
  {
   "cell_type": "code",
   "execution_count": null,
   "id": "a36fe531",
   "metadata": {},
   "outputs": [],
   "source": []
  }
 ],
 "metadata": {
  "kernelspec": {
   "display_name": ".venv",
   "language": "python",
   "name": "python3"
  },
  "language_info": {
   "codemirror_mode": {
    "name": "ipython",
    "version": 3
   },
   "file_extension": ".py",
   "mimetype": "text/x-python",
   "name": "python",
   "nbconvert_exporter": "python",
   "pygments_lexer": "ipython3",
   "version": "3.13.2"
  }
 },
 "nbformat": 4,
 "nbformat_minor": 5
}
