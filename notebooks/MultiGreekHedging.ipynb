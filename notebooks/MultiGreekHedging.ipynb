{
 "cells": [
  {
   "cell_type": "markdown",
   "id": "fdc13cff",
   "metadata": {},
   "source": [
    "# Multi Greek Hedging"
   ]
  },
  {
   "cell_type": "code",
   "execution_count": 46,
   "id": "35ad1a9c",
   "metadata": {},
   "outputs": [],
   "source": [
    "import sys\n",
    "sys.path.append(\"..\")\n",
    "import pandas as pd\n",
    "import numpy as np\n",
    "\n",
    "from utils.process import process_options,process_underlying,process_rf\n",
    "from utils.greeks import delta, gamma, vega, theta, rho\n",
    "from utils.implied_volatility import implied_vol_b76\n",
    "from tqdm import tqdm\n",
    "\n",
    "tqdm.pandas()\n"
   ]
  },
  {
   "cell_type": "code",
   "execution_count": 47,
   "id": "cacb841a",
   "metadata": {},
   "outputs": [],
   "source": [
    "option_data = pd.read_csv(\"../data/SPYOPT_processed.csv\",parse_dates=True)\n",
    "underlying = pd.read_csv(\"../data/SPYFUT_processed.csv\",parse_dates=True).rename(columns={'close': 'futures_close'})\n",
    "rf_rate = pd.read_csv(\"../data/RFRate.csv\", parse_dates=True).rename(columns={'rate': 'rf_rate'})"
   ]
  },
  {
   "cell_type": "code",
   "execution_count": 48,
   "id": "5c0a3e89",
   "metadata": {
    "vscode": {
     "languageId": "javascript"
    }
   },
   "outputs": [],
   "source": [
    "all_data = pd.merge(option_data, \n",
    "                    underlying[['ts_event', 'expiration_date', 'futures_close']], \n",
    "                    on=['ts_event', 'expiration_date'], \n",
    "                    how='left')\n",
    "\n",
    "all_data = pd.merge(all_data, \n",
    "                    rf_rate[['ts_event', 'rf_rate']], \n",
    "                    on='ts_event', \n",
    "                    how='left')\n",
    "\n",
    "all_data['rf_rate'] = all_data['rf_rate'].ffill().bfill()\n",
    "all_data['rf_rate'] = 12 *np.log(1 + all_data['rf_rate']/1200)\n",
    "\n",
    "all_data['ts_event'] = pd.to_datetime(all_data['ts_event'])\n",
    "all_data['expiration_date'] = pd.to_datetime(all_data['expiration_date'])\n",
    "\n",
    "all_data = all_data.set_index('ts_event')\n",
    "\n",
    "all_data['futures_close'] = all_data['futures_close'].ffill()\n",
    "\n",
    "all_data = all_data.reset_index()\n",
    "\n",
    "all_data = all_data.drop(columns=['open', 'high', 'low', 'volume'])\n",
    "\n",
    "all_data = all_data.rename(columns={'close': 'Value','futures_close': 'S','rf_rate': 'r','strike': 'K'})\n",
    "\n",
    "\n",
    "all_data['T'] = (all_data['expiration_date'] - all_data['ts_event']).dt.days / 365.0"
   ]
  },
  {
   "cell_type": "markdown",
   "id": "59901f59",
   "metadata": {},
   "source": [
    "# Preparing Data\n",
    "\n",
    "Since we are going to just be dealing with calls, we can filter out all the puts that are being traded."
   ]
  },
  {
   "cell_type": "code",
   "execution_count": null,
   "id": "443110d9",
   "metadata": {},
   "outputs": [],
   "source": [
    "calls_data = all_data[all_data['option_type'] == 'C']\n",
    "unique_options = calls_data[['K','expiration_date']].drop_duplicates()\n",
    "unique_options.reset_index(drop=True, inplace=True)\n",
    "unique_dates = pd.Index(calls_data['ts_event'].unique())"
   ]
  },
  {
   "cell_type": "code",
   "execution_count": 62,
   "id": "66b6a6e6",
   "metadata": {},
   "outputs": [
    {
     "name": "stderr",
     "output_type": "stream",
     "text": [
      "  1%|          | 3668/309938 [00:02<03:30, 1452.18it/s]/Users/carloteufel/Documents/Projects/risk-neutral-hedging/notebooks/../utils/implied_volatility.py:29: RuntimeWarning: divide by zero encountered in scalar divide\n",
      "  d1 = (np.log(F / K) + 0.5 * sigma**2 * T) / (sigma * np.sqrt(T))\n",
      " 27%|██▋       | 84074/309938 [00:54<02:22, 1580.64it/s]/Users/carloteufel/Documents/Projects/risk-neutral-hedging/notebooks/../utils/implied_volatility.py:29: RuntimeWarning: invalid value encountered in scalar divide\n",
      "  d1 = (np.log(F / K) + 0.5 * sigma**2 * T) / (sigma * np.sqrt(T))\n",
      "100%|██████████| 309938/309938 [03:13<00:00, 1600.94it/s]\n",
      "/var/folders/7k/ytnljb093xg6bbfksvnhyg940000gn/T/ipykernel_33646/2608252728.py:1: SettingWithCopyWarning: \n",
      "A value is trying to be set on a copy of a slice from a DataFrame.\n",
      "Try using .loc[row_indexer,col_indexer] = value instead\n",
      "\n",
      "See the caveats in the documentation: https://pandas.pydata.org/pandas-docs/stable/user_guide/indexing.html#returning-a-view-versus-a-copy\n",
      "  calls_data['IV'] = calls_data.progress_apply(\n"
     ]
    }
   ],
   "source": [
    "calls_data['IV'] = calls_data.progress_apply(\n",
    "    lambda row: implied_vol_b76(\n",
    "        F=row['S'],\n",
    "        K=row['K'],\n",
    "        T=row['T'],\n",
    "        r=row['r'],\n",
    "        market_price=row['Value'],\n",
    "        exp_date= row['expiration_date'],\n",
    "        current_date=row['ts_event']\n",
    "    ),\n",
    "    axis=1\n",
    ")"
   ]
  },
  {
   "cell_type": "markdown",
   "id": "e9313d20",
   "metadata": {},
   "source": [
    "To accurately do the Greek hedging, you need to have the values for all greeks for each outstanding option at each time point.\n",
    "\n",
    "Basically we need a big Tensor of shape  $ G \\in\\mathbb{R}^{n\\times m\\times d}$ with $n$ = timesteps (trading days), $m$ = outstanding options (strike prices and expiration dates), $d$ the greeks (delta,gamma,vega,theta,rho)"
   ]
  },
  {
   "cell_type": "code",
   "execution_count": 75,
   "id": "40ff613d",
   "metadata": {},
   "outputs": [],
   "source": [
    "num_dates = len(unique_dates)\n",
    "num_options = len(unique_options)\n",
    "num_greeks = 5 \n",
    "option_tensor = np.zeros((num_dates, num_options+1, num_greeks))"
   ]
  },
  {
   "cell_type": "code",
   "execution_count": 76,
   "id": "f036b149",
   "metadata": {},
   "outputs": [],
   "source": [
    "def grouper(group):\n",
    "    for i, row in group.iterrows():\n",
    "        option_index = unique_options[(unique_options['K'] == row['K']) & (unique_options['expiration_date'] == row['expiration_date'])].index[0]\n",
    "        date_index = unique_dates.get_loc(row['ts_event'])\n",
    "        option_tensor[date_index, option_index, 0] = delta(row['S'], row['K'], row['T'], row['r'], row['IV'])\n",
    "        option_tensor[date_index, option_index, 1] = gamma(row['S'], row['K'], row['T'], row['r'], row['IV'])\n",
    "        option_tensor[date_index, option_index, 2] = vega(row['S'], row['K'], row['T'], row['r'], row['IV'])\n",
    "        option_tensor[date_index, option_index, 3] = theta(row['S'], row['K'], row['T'], row['r'], row['IV'])\n",
    "        option_tensor[date_index, option_index, 4] = rho(row['S'], row['K'], row['T'], row['r'], row['IV'])"
   ]
  },
  {
   "cell_type": "code",
   "execution_count": 77,
   "id": "c30b7ba3",
   "metadata": {},
   "outputs": [
    {
     "name": "stderr",
     "output_type": "stream",
     "text": [
      "/Users/carloteufel/Documents/Projects/risk-neutral-hedging/notebooks/../utils/greeks.py:6: RuntimeWarning: divide by zero encountered in scalar divide\n",
      "  return norm.cdf((np.log(S / K) + (r + 0.5 * sigma**2) * T) / (sigma * np.sqrt(T)))\n",
      "/Users/carloteufel/Documents/Projects/risk-neutral-hedging/notebooks/../utils/greeks.py:11: RuntimeWarning: divide by zero encountered in scalar divide\n",
      "  (np.log(S / K) + (r + 0.5 * sigma**2) * T) / (sigma * np.sqrt(T))\n",
      "/Users/carloteufel/Documents/Projects/risk-neutral-hedging/notebooks/../utils/greeks.py:10: RuntimeWarning: invalid value encountered in scalar divide\n",
      "  return norm.pdf(\n",
      "/Users/carloteufel/Documents/Projects/risk-neutral-hedging/notebooks/../utils/greeks.py:18: RuntimeWarning: divide by zero encountered in scalar divide\n",
      "  * norm.pdf((np.log(S / K) + (r + 0.5 * sigma**2) * T) / (sigma * np.sqrt(T)))\n",
      "/Users/carloteufel/Documents/Projects/risk-neutral-hedging/notebooks/../utils/greeks.py:25: RuntimeWarning: divide by zero encountered in scalar divide\n",
      "  (np.log(S / K) + (r + 0.5 * sigma**2) * T) / (sigma * np.sqrt(T))\n",
      "/Users/carloteufel/Documents/Projects/risk-neutral-hedging/notebooks/../utils/greeks.py:24: RuntimeWarning: invalid value encountered in scalar divide\n",
      "  return -S * norm.pdf(\n",
      "/Users/carloteufel/Documents/Projects/risk-neutral-hedging/notebooks/../utils/greeks.py:27: RuntimeWarning: divide by zero encountered in scalar divide\n",
      "  (np.log(S / K) + (r + 0.5 * sigma**2) * T) / (sigma * np.sqrt(T))\n",
      "/Users/carloteufel/Documents/Projects/risk-neutral-hedging/notebooks/../utils/greeks.py:38: RuntimeWarning: divide by zero encountered in scalar divide\n",
      "  (np.log(S / K) + (r + 0.5 * sigma**2) * T) / (sigma * np.sqrt(T))\n",
      "/Users/carloteufel/Documents/Projects/risk-neutral-hedging/notebooks/../utils/greeks.py:6: RuntimeWarning: divide by zero encountered in scalar divide\n",
      "  return norm.cdf((np.log(S / K) + (r + 0.5 * sigma**2) * T) / (sigma * np.sqrt(T)))\n",
      "/Users/carloteufel/Documents/Projects/risk-neutral-hedging/notebooks/../utils/greeks.py:11: RuntimeWarning: divide by zero encountered in scalar divide\n",
      "  (np.log(S / K) + (r + 0.5 * sigma**2) * T) / (sigma * np.sqrt(T))\n",
      "/Users/carloteufel/Documents/Projects/risk-neutral-hedging/notebooks/../utils/greeks.py:10: RuntimeWarning: invalid value encountered in scalar divide\n",
      "  return norm.pdf(\n",
      "/Users/carloteufel/Documents/Projects/risk-neutral-hedging/notebooks/../utils/greeks.py:18: RuntimeWarning: divide by zero encountered in scalar divide\n",
      "  * norm.pdf((np.log(S / K) + (r + 0.5 * sigma**2) * T) / (sigma * np.sqrt(T)))\n",
      "/Users/carloteufel/Documents/Projects/risk-neutral-hedging/notebooks/../utils/greeks.py:25: RuntimeWarning: divide by zero encountered in scalar divide\n",
      "  (np.log(S / K) + (r + 0.5 * sigma**2) * T) / (sigma * np.sqrt(T))\n",
      "/Users/carloteufel/Documents/Projects/risk-neutral-hedging/notebooks/../utils/greeks.py:24: RuntimeWarning: invalid value encountered in scalar divide\n",
      "  return -S * norm.pdf(\n",
      "/Users/carloteufel/Documents/Projects/risk-neutral-hedging/notebooks/../utils/greeks.py:27: RuntimeWarning: divide by zero encountered in scalar divide\n",
      "  (np.log(S / K) + (r + 0.5 * sigma**2) * T) / (sigma * np.sqrt(T))\n",
      "/Users/carloteufel/Documents/Projects/risk-neutral-hedging/notebooks/../utils/greeks.py:38: RuntimeWarning: divide by zero encountered in scalar divide\n",
      "  (np.log(S / K) + (r + 0.5 * sigma**2) * T) / (sigma * np.sqrt(T))\n",
      "/Users/carloteufel/Documents/Projects/risk-neutral-hedging/notebooks/../utils/greeks.py:6: RuntimeWarning: divide by zero encountered in scalar divide\n",
      "  return norm.cdf((np.log(S / K) + (r + 0.5 * sigma**2) * T) / (sigma * np.sqrt(T)))\n",
      "/Users/carloteufel/Documents/Projects/risk-neutral-hedging/notebooks/../utils/greeks.py:11: RuntimeWarning: divide by zero encountered in scalar divide\n",
      "  (np.log(S / K) + (r + 0.5 * sigma**2) * T) / (sigma * np.sqrt(T))\n",
      "/Users/carloteufel/Documents/Projects/risk-neutral-hedging/notebooks/../utils/greeks.py:10: RuntimeWarning: invalid value encountered in scalar divide\n",
      "  return norm.pdf(\n",
      "/Users/carloteufel/Documents/Projects/risk-neutral-hedging/notebooks/../utils/greeks.py:18: RuntimeWarning: divide by zero encountered in scalar divide\n",
      "  * norm.pdf((np.log(S / K) + (r + 0.5 * sigma**2) * T) / (sigma * np.sqrt(T)))\n",
      "/Users/carloteufel/Documents/Projects/risk-neutral-hedging/notebooks/../utils/greeks.py:25: RuntimeWarning: divide by zero encountered in scalar divide\n",
      "  (np.log(S / K) + (r + 0.5 * sigma**2) * T) / (sigma * np.sqrt(T))\n",
      "/Users/carloteufel/Documents/Projects/risk-neutral-hedging/notebooks/../utils/greeks.py:24: RuntimeWarning: invalid value encountered in scalar divide\n",
      "  return -S * norm.pdf(\n",
      "/Users/carloteufel/Documents/Projects/risk-neutral-hedging/notebooks/../utils/greeks.py:27: RuntimeWarning: divide by zero encountered in scalar divide\n",
      "  (np.log(S / K) + (r + 0.5 * sigma**2) * T) / (sigma * np.sqrt(T))\n",
      "/Users/carloteufel/Documents/Projects/risk-neutral-hedging/notebooks/../utils/greeks.py:38: RuntimeWarning: divide by zero encountered in scalar divide\n",
      "  (np.log(S / K) + (r + 0.5 * sigma**2) * T) / (sigma * np.sqrt(T))\n",
      "/Users/carloteufel/Documents/Projects/risk-neutral-hedging/notebooks/../utils/greeks.py:6: RuntimeWarning: divide by zero encountered in scalar divide\n",
      "  return norm.cdf((np.log(S / K) + (r + 0.5 * sigma**2) * T) / (sigma * np.sqrt(T)))\n",
      "/Users/carloteufel/Documents/Projects/risk-neutral-hedging/notebooks/../utils/greeks.py:11: RuntimeWarning: divide by zero encountered in scalar divide\n",
      "  (np.log(S / K) + (r + 0.5 * sigma**2) * T) / (sigma * np.sqrt(T))\n",
      "/Users/carloteufel/Documents/Projects/risk-neutral-hedging/notebooks/../utils/greeks.py:10: RuntimeWarning: invalid value encountered in scalar divide\n",
      "  return norm.pdf(\n",
      "/Users/carloteufel/Documents/Projects/risk-neutral-hedging/notebooks/../utils/greeks.py:18: RuntimeWarning: divide by zero encountered in scalar divide\n",
      "  * norm.pdf((np.log(S / K) + (r + 0.5 * sigma**2) * T) / (sigma * np.sqrt(T)))\n",
      "/Users/carloteufel/Documents/Projects/risk-neutral-hedging/notebooks/../utils/greeks.py:25: RuntimeWarning: divide by zero encountered in scalar divide\n",
      "  (np.log(S / K) + (r + 0.5 * sigma**2) * T) / (sigma * np.sqrt(T))\n",
      "/Users/carloteufel/Documents/Projects/risk-neutral-hedging/notebooks/../utils/greeks.py:24: RuntimeWarning: invalid value encountered in scalar divide\n",
      "  return -S * norm.pdf(\n",
      "/Users/carloteufel/Documents/Projects/risk-neutral-hedging/notebooks/../utils/greeks.py:27: RuntimeWarning: divide by zero encountered in scalar divide\n",
      "  (np.log(S / K) + (r + 0.5 * sigma**2) * T) / (sigma * np.sqrt(T))\n",
      "/Users/carloteufel/Documents/Projects/risk-neutral-hedging/notebooks/../utils/greeks.py:38: RuntimeWarning: divide by zero encountered in scalar divide\n",
      "  (np.log(S / K) + (r + 0.5 * sigma**2) * T) / (sigma * np.sqrt(T))\n",
      "/Users/carloteufel/Documents/Projects/risk-neutral-hedging/notebooks/../utils/greeks.py:6: RuntimeWarning: divide by zero encountered in scalar divide\n",
      "  return norm.cdf((np.log(S / K) + (r + 0.5 * sigma**2) * T) / (sigma * np.sqrt(T)))\n",
      "/Users/carloteufel/Documents/Projects/risk-neutral-hedging/notebooks/../utils/greeks.py:11: RuntimeWarning: divide by zero encountered in scalar divide\n",
      "  (np.log(S / K) + (r + 0.5 * sigma**2) * T) / (sigma * np.sqrt(T))\n",
      "/Users/carloteufel/Documents/Projects/risk-neutral-hedging/notebooks/../utils/greeks.py:10: RuntimeWarning: invalid value encountered in scalar divide\n",
      "  return norm.pdf(\n",
      "/Users/carloteufel/Documents/Projects/risk-neutral-hedging/notebooks/../utils/greeks.py:18: RuntimeWarning: divide by zero encountered in scalar divide\n",
      "  * norm.pdf((np.log(S / K) + (r + 0.5 * sigma**2) * T) / (sigma * np.sqrt(T)))\n",
      "/Users/carloteufel/Documents/Projects/risk-neutral-hedging/notebooks/../utils/greeks.py:25: RuntimeWarning: divide by zero encountered in scalar divide\n",
      "  (np.log(S / K) + (r + 0.5 * sigma**2) * T) / (sigma * np.sqrt(T))\n",
      "/Users/carloteufel/Documents/Projects/risk-neutral-hedging/notebooks/../utils/greeks.py:24: RuntimeWarning: invalid value encountered in scalar divide\n",
      "  return -S * norm.pdf(\n",
      "/Users/carloteufel/Documents/Projects/risk-neutral-hedging/notebooks/../utils/greeks.py:27: RuntimeWarning: divide by zero encountered in scalar divide\n",
      "  (np.log(S / K) + (r + 0.5 * sigma**2) * T) / (sigma * np.sqrt(T))\n",
      "/Users/carloteufel/Documents/Projects/risk-neutral-hedging/notebooks/../utils/greeks.py:38: RuntimeWarning: divide by zero encountered in scalar divide\n",
      "  (np.log(S / K) + (r + 0.5 * sigma**2) * T) / (sigma * np.sqrt(T))\n",
      "/Users/carloteufel/Documents/Projects/risk-neutral-hedging/notebooks/../utils/greeks.py:6: RuntimeWarning: divide by zero encountered in scalar divide\n",
      "  return norm.cdf((np.log(S / K) + (r + 0.5 * sigma**2) * T) / (sigma * np.sqrt(T)))\n",
      "/Users/carloteufel/Documents/Projects/risk-neutral-hedging/notebooks/../utils/greeks.py:11: RuntimeWarning: divide by zero encountered in scalar divide\n",
      "  (np.log(S / K) + (r + 0.5 * sigma**2) * T) / (sigma * np.sqrt(T))\n",
      "/Users/carloteufel/Documents/Projects/risk-neutral-hedging/notebooks/../utils/greeks.py:10: RuntimeWarning: invalid value encountered in scalar divide\n",
      "  return norm.pdf(\n",
      "/Users/carloteufel/Documents/Projects/risk-neutral-hedging/notebooks/../utils/greeks.py:18: RuntimeWarning: divide by zero encountered in scalar divide\n",
      "  * norm.pdf((np.log(S / K) + (r + 0.5 * sigma**2) * T) / (sigma * np.sqrt(T)))\n",
      "/Users/carloteufel/Documents/Projects/risk-neutral-hedging/notebooks/../utils/greeks.py:25: RuntimeWarning: divide by zero encountered in scalar divide\n",
      "  (np.log(S / K) + (r + 0.5 * sigma**2) * T) / (sigma * np.sqrt(T))\n",
      "/Users/carloteufel/Documents/Projects/risk-neutral-hedging/notebooks/../utils/greeks.py:24: RuntimeWarning: invalid value encountered in scalar divide\n",
      "  return -S * norm.pdf(\n",
      "/Users/carloteufel/Documents/Projects/risk-neutral-hedging/notebooks/../utils/greeks.py:27: RuntimeWarning: divide by zero encountered in scalar divide\n",
      "  (np.log(S / K) + (r + 0.5 * sigma**2) * T) / (sigma * np.sqrt(T))\n",
      "/Users/carloteufel/Documents/Projects/risk-neutral-hedging/notebooks/../utils/greeks.py:38: RuntimeWarning: divide by zero encountered in scalar divide\n",
      "  (np.log(S / K) + (r + 0.5 * sigma**2) * T) / (sigma * np.sqrt(T))\n",
      "/Users/carloteufel/Documents/Projects/risk-neutral-hedging/notebooks/../utils/greeks.py:6: RuntimeWarning: divide by zero encountered in scalar divide\n",
      "  return norm.cdf((np.log(S / K) + (r + 0.5 * sigma**2) * T) / (sigma * np.sqrt(T)))\n",
      "/Users/carloteufel/Documents/Projects/risk-neutral-hedging/notebooks/../utils/greeks.py:11: RuntimeWarning: divide by zero encountered in scalar divide\n",
      "  (np.log(S / K) + (r + 0.5 * sigma**2) * T) / (sigma * np.sqrt(T))\n",
      "/Users/carloteufel/Documents/Projects/risk-neutral-hedging/notebooks/../utils/greeks.py:10: RuntimeWarning: invalid value encountered in scalar divide\n",
      "  return norm.pdf(\n",
      "/Users/carloteufel/Documents/Projects/risk-neutral-hedging/notebooks/../utils/greeks.py:18: RuntimeWarning: divide by zero encountered in scalar divide\n",
      "  * norm.pdf((np.log(S / K) + (r + 0.5 * sigma**2) * T) / (sigma * np.sqrt(T)))\n",
      "/Users/carloteufel/Documents/Projects/risk-neutral-hedging/notebooks/../utils/greeks.py:25: RuntimeWarning: divide by zero encountered in scalar divide\n",
      "  (np.log(S / K) + (r + 0.5 * sigma**2) * T) / (sigma * np.sqrt(T))\n",
      "/Users/carloteufel/Documents/Projects/risk-neutral-hedging/notebooks/../utils/greeks.py:24: RuntimeWarning: invalid value encountered in scalar divide\n",
      "  return -S * norm.pdf(\n",
      "/Users/carloteufel/Documents/Projects/risk-neutral-hedging/notebooks/../utils/greeks.py:27: RuntimeWarning: divide by zero encountered in scalar divide\n",
      "  (np.log(S / K) + (r + 0.5 * sigma**2) * T) / (sigma * np.sqrt(T))\n",
      "/Users/carloteufel/Documents/Projects/risk-neutral-hedging/notebooks/../utils/greeks.py:38: RuntimeWarning: divide by zero encountered in scalar divide\n",
      "  (np.log(S / K) + (r + 0.5 * sigma**2) * T) / (sigma * np.sqrt(T))\n",
      "/Users/carloteufel/Documents/Projects/risk-neutral-hedging/notebooks/../utils/greeks.py:6: RuntimeWarning: divide by zero encountered in scalar divide\n",
      "  return norm.cdf((np.log(S / K) + (r + 0.5 * sigma**2) * T) / (sigma * np.sqrt(T)))\n",
      "/Users/carloteufel/Documents/Projects/risk-neutral-hedging/notebooks/../utils/greeks.py:11: RuntimeWarning: divide by zero encountered in scalar divide\n",
      "  (np.log(S / K) + (r + 0.5 * sigma**2) * T) / (sigma * np.sqrt(T))\n",
      "/Users/carloteufel/Documents/Projects/risk-neutral-hedging/notebooks/../utils/greeks.py:10: RuntimeWarning: invalid value encountered in scalar divide\n",
      "  return norm.pdf(\n",
      "/Users/carloteufel/Documents/Projects/risk-neutral-hedging/notebooks/../utils/greeks.py:18: RuntimeWarning: divide by zero encountered in scalar divide\n",
      "  * norm.pdf((np.log(S / K) + (r + 0.5 * sigma**2) * T) / (sigma * np.sqrt(T)))\n",
      "/Users/carloteufel/Documents/Projects/risk-neutral-hedging/notebooks/../utils/greeks.py:25: RuntimeWarning: divide by zero encountered in scalar divide\n",
      "  (np.log(S / K) + (r + 0.5 * sigma**2) * T) / (sigma * np.sqrt(T))\n",
      "/Users/carloteufel/Documents/Projects/risk-neutral-hedging/notebooks/../utils/greeks.py:24: RuntimeWarning: invalid value encountered in scalar divide\n",
      "  return -S * norm.pdf(\n",
      "/Users/carloteufel/Documents/Projects/risk-neutral-hedging/notebooks/../utils/greeks.py:27: RuntimeWarning: divide by zero encountered in scalar divide\n",
      "  (np.log(S / K) + (r + 0.5 * sigma**2) * T) / (sigma * np.sqrt(T))\n",
      "/Users/carloteufel/Documents/Projects/risk-neutral-hedging/notebooks/../utils/greeks.py:38: RuntimeWarning: divide by zero encountered in scalar divide\n",
      "  (np.log(S / K) + (r + 0.5 * sigma**2) * T) / (sigma * np.sqrt(T))\n",
      "/Users/carloteufel/Documents/Projects/risk-neutral-hedging/notebooks/../utils/greeks.py:6: RuntimeWarning: divide by zero encountered in scalar divide\n",
      "  return norm.cdf((np.log(S / K) + (r + 0.5 * sigma**2) * T) / (sigma * np.sqrt(T)))\n",
      "/Users/carloteufel/Documents/Projects/risk-neutral-hedging/notebooks/../utils/greeks.py:11: RuntimeWarning: divide by zero encountered in scalar divide\n",
      "  (np.log(S / K) + (r + 0.5 * sigma**2) * T) / (sigma * np.sqrt(T))\n",
      "/Users/carloteufel/Documents/Projects/risk-neutral-hedging/notebooks/../utils/greeks.py:10: RuntimeWarning: invalid value encountered in scalar divide\n",
      "  return norm.pdf(\n",
      "/Users/carloteufel/Documents/Projects/risk-neutral-hedging/notebooks/../utils/greeks.py:18: RuntimeWarning: divide by zero encountered in scalar divide\n",
      "  * norm.pdf((np.log(S / K) + (r + 0.5 * sigma**2) * T) / (sigma * np.sqrt(T)))\n",
      "/Users/carloteufel/Documents/Projects/risk-neutral-hedging/notebooks/../utils/greeks.py:25: RuntimeWarning: divide by zero encountered in scalar divide\n",
      "  (np.log(S / K) + (r + 0.5 * sigma**2) * T) / (sigma * np.sqrt(T))\n",
      "/Users/carloteufel/Documents/Projects/risk-neutral-hedging/notebooks/../utils/greeks.py:24: RuntimeWarning: invalid value encountered in scalar divide\n",
      "  return -S * norm.pdf(\n",
      "/Users/carloteufel/Documents/Projects/risk-neutral-hedging/notebooks/../utils/greeks.py:27: RuntimeWarning: divide by zero encountered in scalar divide\n",
      "  (np.log(S / K) + (r + 0.5 * sigma**2) * T) / (sigma * np.sqrt(T))\n",
      "/Users/carloteufel/Documents/Projects/risk-neutral-hedging/notebooks/../utils/greeks.py:38: RuntimeWarning: divide by zero encountered in scalar divide\n",
      "  (np.log(S / K) + (r + 0.5 * sigma**2) * T) / (sigma * np.sqrt(T))\n",
      "/Users/carloteufel/Documents/Projects/risk-neutral-hedging/notebooks/../utils/greeks.py:6: RuntimeWarning: divide by zero encountered in scalar divide\n",
      "  return norm.cdf((np.log(S / K) + (r + 0.5 * sigma**2) * T) / (sigma * np.sqrt(T)))\n",
      "/Users/carloteufel/Documents/Projects/risk-neutral-hedging/notebooks/../utils/greeks.py:11: RuntimeWarning: divide by zero encountered in scalar divide\n",
      "  (np.log(S / K) + (r + 0.5 * sigma**2) * T) / (sigma * np.sqrt(T))\n",
      "/Users/carloteufel/Documents/Projects/risk-neutral-hedging/notebooks/../utils/greeks.py:10: RuntimeWarning: invalid value encountered in scalar divide\n",
      "  return norm.pdf(\n",
      "/Users/carloteufel/Documents/Projects/risk-neutral-hedging/notebooks/../utils/greeks.py:18: RuntimeWarning: divide by zero encountered in scalar divide\n",
      "  * norm.pdf((np.log(S / K) + (r + 0.5 * sigma**2) * T) / (sigma * np.sqrt(T)))\n",
      "/Users/carloteufel/Documents/Projects/risk-neutral-hedging/notebooks/../utils/greeks.py:25: RuntimeWarning: divide by zero encountered in scalar divide\n",
      "  (np.log(S / K) + (r + 0.5 * sigma**2) * T) / (sigma * np.sqrt(T))\n",
      "/Users/carloteufel/Documents/Projects/risk-neutral-hedging/notebooks/../utils/greeks.py:24: RuntimeWarning: invalid value encountered in scalar divide\n",
      "  return -S * norm.pdf(\n",
      "/Users/carloteufel/Documents/Projects/risk-neutral-hedging/notebooks/../utils/greeks.py:27: RuntimeWarning: divide by zero encountered in scalar divide\n",
      "  (np.log(S / K) + (r + 0.5 * sigma**2) * T) / (sigma * np.sqrt(T))\n",
      "/Users/carloteufel/Documents/Projects/risk-neutral-hedging/notebooks/../utils/greeks.py:38: RuntimeWarning: divide by zero encountered in scalar divide\n",
      "  (np.log(S / K) + (r + 0.5 * sigma**2) * T) / (sigma * np.sqrt(T))\n",
      "/Users/carloteufel/Documents/Projects/risk-neutral-hedging/notebooks/../utils/greeks.py:6: RuntimeWarning: divide by zero encountered in scalar divide\n",
      "  return norm.cdf((np.log(S / K) + (r + 0.5 * sigma**2) * T) / (sigma * np.sqrt(T)))\n",
      "/Users/carloteufel/Documents/Projects/risk-neutral-hedging/notebooks/../utils/greeks.py:11: RuntimeWarning: divide by zero encountered in scalar divide\n",
      "  (np.log(S / K) + (r + 0.5 * sigma**2) * T) / (sigma * np.sqrt(T))\n",
      "/Users/carloteufel/Documents/Projects/risk-neutral-hedging/notebooks/../utils/greeks.py:10: RuntimeWarning: invalid value encountered in scalar divide\n",
      "  return norm.pdf(\n",
      "/Users/carloteufel/Documents/Projects/risk-neutral-hedging/notebooks/../utils/greeks.py:18: RuntimeWarning: divide by zero encountered in scalar divide\n",
      "  * norm.pdf((np.log(S / K) + (r + 0.5 * sigma**2) * T) / (sigma * np.sqrt(T)))\n",
      "/Users/carloteufel/Documents/Projects/risk-neutral-hedging/notebooks/../utils/greeks.py:25: RuntimeWarning: divide by zero encountered in scalar divide\n",
      "  (np.log(S / K) + (r + 0.5 * sigma**2) * T) / (sigma * np.sqrt(T))\n",
      "/Users/carloteufel/Documents/Projects/risk-neutral-hedging/notebooks/../utils/greeks.py:24: RuntimeWarning: invalid value encountered in scalar divide\n",
      "  return -S * norm.pdf(\n",
      "/Users/carloteufel/Documents/Projects/risk-neutral-hedging/notebooks/../utils/greeks.py:27: RuntimeWarning: divide by zero encountered in scalar divide\n",
      "  (np.log(S / K) + (r + 0.5 * sigma**2) * T) / (sigma * np.sqrt(T))\n",
      "/Users/carloteufel/Documents/Projects/risk-neutral-hedging/notebooks/../utils/greeks.py:38: RuntimeWarning: divide by zero encountered in scalar divide\n",
      "  (np.log(S / K) + (r + 0.5 * sigma**2) * T) / (sigma * np.sqrt(T))\n",
      "/Users/carloteufel/Documents/Projects/risk-neutral-hedging/notebooks/../utils/greeks.py:6: RuntimeWarning: divide by zero encountered in scalar divide\n",
      "  return norm.cdf((np.log(S / K) + (r + 0.5 * sigma**2) * T) / (sigma * np.sqrt(T)))\n",
      "/Users/carloteufel/Documents/Projects/risk-neutral-hedging/notebooks/../utils/greeks.py:11: RuntimeWarning: divide by zero encountered in scalar divide\n",
      "  (np.log(S / K) + (r + 0.5 * sigma**2) * T) / (sigma * np.sqrt(T))\n",
      "/Users/carloteufel/Documents/Projects/risk-neutral-hedging/notebooks/../utils/greeks.py:10: RuntimeWarning: invalid value encountered in scalar divide\n",
      "  return norm.pdf(\n",
      "/Users/carloteufel/Documents/Projects/risk-neutral-hedging/notebooks/../utils/greeks.py:18: RuntimeWarning: divide by zero encountered in scalar divide\n",
      "  * norm.pdf((np.log(S / K) + (r + 0.5 * sigma**2) * T) / (sigma * np.sqrt(T)))\n",
      "/Users/carloteufel/Documents/Projects/risk-neutral-hedging/notebooks/../utils/greeks.py:25: RuntimeWarning: divide by zero encountered in scalar divide\n",
      "  (np.log(S / K) + (r + 0.5 * sigma**2) * T) / (sigma * np.sqrt(T))\n",
      "/Users/carloteufel/Documents/Projects/risk-neutral-hedging/notebooks/../utils/greeks.py:24: RuntimeWarning: invalid value encountered in scalar divide\n",
      "  return -S * norm.pdf(\n",
      "/Users/carloteufel/Documents/Projects/risk-neutral-hedging/notebooks/../utils/greeks.py:27: RuntimeWarning: divide by zero encountered in scalar divide\n",
      "  (np.log(S / K) + (r + 0.5 * sigma**2) * T) / (sigma * np.sqrt(T))\n",
      "/Users/carloteufel/Documents/Projects/risk-neutral-hedging/notebooks/../utils/greeks.py:38: RuntimeWarning: divide by zero encountered in scalar divide\n",
      "  (np.log(S / K) + (r + 0.5 * sigma**2) * T) / (sigma * np.sqrt(T))\n",
      "/Users/carloteufel/Documents/Projects/risk-neutral-hedging/notebooks/../utils/greeks.py:6: RuntimeWarning: divide by zero encountered in scalar divide\n",
      "  return norm.cdf((np.log(S / K) + (r + 0.5 * sigma**2) * T) / (sigma * np.sqrt(T)))\n",
      "/Users/carloteufel/Documents/Projects/risk-neutral-hedging/notebooks/../utils/greeks.py:11: RuntimeWarning: divide by zero encountered in scalar divide\n",
      "  (np.log(S / K) + (r + 0.5 * sigma**2) * T) / (sigma * np.sqrt(T))\n",
      "/Users/carloteufel/Documents/Projects/risk-neutral-hedging/notebooks/../utils/greeks.py:10: RuntimeWarning: invalid value encountered in scalar divide\n",
      "  return norm.pdf(\n",
      "/Users/carloteufel/Documents/Projects/risk-neutral-hedging/notebooks/../utils/greeks.py:18: RuntimeWarning: divide by zero encountered in scalar divide\n",
      "  * norm.pdf((np.log(S / K) + (r + 0.5 * sigma**2) * T) / (sigma * np.sqrt(T)))\n",
      "/Users/carloteufel/Documents/Projects/risk-neutral-hedging/notebooks/../utils/greeks.py:25: RuntimeWarning: divide by zero encountered in scalar divide\n",
      "  (np.log(S / K) + (r + 0.5 * sigma**2) * T) / (sigma * np.sqrt(T))\n",
      "/Users/carloteufel/Documents/Projects/risk-neutral-hedging/notebooks/../utils/greeks.py:24: RuntimeWarning: invalid value encountered in scalar divide\n",
      "  return -S * norm.pdf(\n",
      "/Users/carloteufel/Documents/Projects/risk-neutral-hedging/notebooks/../utils/greeks.py:27: RuntimeWarning: divide by zero encountered in scalar divide\n",
      "  (np.log(S / K) + (r + 0.5 * sigma**2) * T) / (sigma * np.sqrt(T))\n",
      "/Users/carloteufel/Documents/Projects/risk-neutral-hedging/notebooks/../utils/greeks.py:38: RuntimeWarning: divide by zero encountered in scalar divide\n",
      "  (np.log(S / K) + (r + 0.5 * sigma**2) * T) / (sigma * np.sqrt(T))\n",
      "/Users/carloteufel/Documents/Projects/risk-neutral-hedging/notebooks/../utils/greeks.py:6: RuntimeWarning: divide by zero encountered in scalar divide\n",
      "  return norm.cdf((np.log(S / K) + (r + 0.5 * sigma**2) * T) / (sigma * np.sqrt(T)))\n",
      "/Users/carloteufel/Documents/Projects/risk-neutral-hedging/notebooks/../utils/greeks.py:11: RuntimeWarning: divide by zero encountered in scalar divide\n",
      "  (np.log(S / K) + (r + 0.5 * sigma**2) * T) / (sigma * np.sqrt(T))\n",
      "/Users/carloteufel/Documents/Projects/risk-neutral-hedging/notebooks/../utils/greeks.py:10: RuntimeWarning: invalid value encountered in scalar divide\n",
      "  return norm.pdf(\n",
      "/Users/carloteufel/Documents/Projects/risk-neutral-hedging/notebooks/../utils/greeks.py:18: RuntimeWarning: divide by zero encountered in scalar divide\n",
      "  * norm.pdf((np.log(S / K) + (r + 0.5 * sigma**2) * T) / (sigma * np.sqrt(T)))\n",
      "/Users/carloteufel/Documents/Projects/risk-neutral-hedging/notebooks/../utils/greeks.py:25: RuntimeWarning: divide by zero encountered in scalar divide\n",
      "  (np.log(S / K) + (r + 0.5 * sigma**2) * T) / (sigma * np.sqrt(T))\n",
      "/Users/carloteufel/Documents/Projects/risk-neutral-hedging/notebooks/../utils/greeks.py:24: RuntimeWarning: invalid value encountered in scalar divide\n",
      "  return -S * norm.pdf(\n",
      "/Users/carloteufel/Documents/Projects/risk-neutral-hedging/notebooks/../utils/greeks.py:27: RuntimeWarning: divide by zero encountered in scalar divide\n",
      "  (np.log(S / K) + (r + 0.5 * sigma**2) * T) / (sigma * np.sqrt(T))\n",
      "/Users/carloteufel/Documents/Projects/risk-neutral-hedging/notebooks/../utils/greeks.py:38: RuntimeWarning: divide by zero encountered in scalar divide\n",
      "  (np.log(S / K) + (r + 0.5 * sigma**2) * T) / (sigma * np.sqrt(T))\n",
      "/var/folders/7k/ytnljb093xg6bbfksvnhyg940000gn/T/ipykernel_33646/2979823207.py:1: FutureWarning: DataFrameGroupBy.apply operated on the grouping columns. This behavior is deprecated, and in a future version of pandas the grouping columns will be excluded from the operation. Either pass `include_groups=False` to exclude the groupings or explicitly select the grouping columns after groupby to silence this warning.\n",
      "  grouped = calls_data.groupby(['expiration_date', 'K']).apply(grouper)\n"
     ]
    }
   ],
   "source": [
    "grouped = calls_data.groupby(['expiration_date', 'K']).apply(grouper)"
   ]
  },
  {
   "cell_type": "code",
   "execution_count": 78,
   "id": "4487019b",
   "metadata": {},
   "outputs": [],
   "source": [
    "option_tensor = np.nan_to_num(option_tensor, nan=1e10, posinf=1e10, neginf=-1e10)\n",
    "option_tensor[:, -1, 0] = 1.0  # Delta of the underlying\n",
    "option_tensor[:, -1, 1] = 0.0  # Gamma of the underlying\n",
    "option_tensor[:, -1, 2] = 0.0  # Vega of the underlying\n",
    "option_tensor[:, -1, 3] = 0.0  # Theta of the underlying\n",
    "option_tensor[:, -1, 4] = 0.0  # Rho of the underlying"
   ]
  },
  {
   "cell_type": "markdown",
   "id": "304e31b9",
   "metadata": {},
   "source": [
    "After setting up the tensor with the different greeks, we can now find the optimal superposition that minimize our exposure to the movement of the underlying."
   ]
  },
  {
   "cell_type": "code",
   "execution_count": 79,
   "id": "ab164a0c",
   "metadata": {},
   "outputs": [],
   "source": [
    "import cvxpy as cpy"
   ]
  },
  {
   "cell_type": "code",
   "execution_count": 80,
   "id": "574ad921",
   "metadata": {},
   "outputs": [],
   "source": [
    "solver=cpy.OSQP\n",
    "\n",
    "solution = np.zeros((num_dates, num_options+1))\n",
    "\n",
    "for i in range(num_dates):\n",
    "    A = option_tensor[i]\n",
    "    x = cpy.Variable(num_options+1)\n",
    "    constraints = [A.T @ x == 0]\n",
    "\n",
    "    objective = cpy.Minimize(cpy.norm1(x))  # L1 norm minimization\n",
    "    prob = cpy.Problem(objective, constraints)\n",
    "    prob.solve(solver=solver)\n",
    "    solution[i] = x.value"
   ]
  },
  {
   "cell_type": "code",
   "execution_count": 82,
   "id": "b52029f6",
   "metadata": {},
   "outputs": [
    {
     "data": {
      "text/plain": [
       "[<matplotlib.lines.Line2D at 0x30f8b6d50>]"
      ]
     },
     "execution_count": 82,
     "metadata": {},
     "output_type": "execute_result"
    },
    {
     "data": {
      "image/png": "[encoded data removed]",
      "text/plain": [
       "<Figure size 640x480 with 1 Axes>"
      ]
     },
     "metadata": {},
     "output_type": "display_data"
    }
   ],
   "source": [
    "import matplotlib.pyplot as plt\n",
    "\n",
    "plt.plot(solution[0,:-1], label='Hedging Weights')"
   ]
  },
  {
   "cell_type": "code",
   "execution_count": null,
   "id": "7f367203",
   "metadata": {},
   "outputs": [],
   "source": []
  }
 ],
 "metadata": {
  "kernelspec": {
   "display_name": ".venv",
   "language": "python",
   "name": "python3"
  },
  "language_info": {
   "codemirror_mode": {
    "name": "ipython",
    "version": 3
   },
   "file_extension": ".py",
   "mimetype": "text/x-python",
   "name": "python",
   "nbconvert_exporter": "python",
   "pygments_lexer": "ipython3",
   "version": "3.13.2"
  }
 },
 "nbformat": 4,
 "nbformat_minor": 5
}
