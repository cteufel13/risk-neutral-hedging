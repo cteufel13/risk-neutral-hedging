{
 "cells": [
  {
   "cell_type": "code",
   "execution_count": 1,
   "id": "64970f0a",
   "metadata": {},
   "outputs": [],
   "source": [
    "from acedb import AceDB\n",
    "import sys\n",
    "sys.path.append(\"..\")"
   ]
  },
  {
   "cell_type": "code",
   "execution_count": 2,
   "id": "99c13fb1",
   "metadata": {},
   "outputs": [
    {
     "name": "stdout",
     "output_type": "stream",
     "text": [
      "Databento client initialized.\n",
      "FRED client initialized.\n",
      "Error connecting to the database. Please check your configuration.\n"
     ]
    },
    {
     "ename": "OperationalError",
     "evalue": "could not translate host name \"id-hdb-psgr-ct11.ethz.ch\" to address: nodename nor servname provided, or not known\n",
     "output_type": "error",
     "traceback": [
      "\u001b[31m---------------------------------------------------------------------------\u001b[39m",
      "\u001b[31mOperationalError\u001b[39m                          Traceback (most recent call last)",
      "\u001b[36mCell\u001b[39m\u001b[36m \u001b[39m\u001b[32mIn[2]\u001b[39m\u001b[32m, line 1\u001b[39m\n\u001b[32m----> \u001b[39m\u001b[32m1\u001b[39m client = \u001b[43mAceDB\u001b[49m\u001b[43m(\u001b[49m\u001b[43m)\u001b[49m\n",
      "\u001b[36mFile \u001b[39m\u001b[32m~/Documents/Projects/risk-neutral-hedging/.venv/lib/python3.13/site-packages/acedb/acedb.py:22\u001b[39m, in \u001b[36mAceDB.__init__\u001b[39m\u001b[34m(self)\u001b[39m\n\u001b[32m     20\u001b[39m \u001b[38;5;28mself\u001b[39m._databento_client = DBNClient()\n\u001b[32m     21\u001b[39m \u001b[38;5;28mself\u001b[39m._fred_client = FREDClient()\n\u001b[32m---> \u001b[39m\u001b[32m22\u001b[39m \u001b[38;5;28mself\u001b[39m._database_client = \u001b[43mPostgreDBClient\u001b[49m\u001b[43m(\u001b[49m\n\u001b[32m     23\u001b[39m \u001b[43m    \u001b[49m\u001b[43mhost\u001b[49m\u001b[43m=\u001b[49m\u001b[38;5;28;43mself\u001b[39;49m\u001b[43m.\u001b[49m\u001b[43m_config\u001b[49m\u001b[43m.\u001b[49m\u001b[43mhost\u001b[49m\u001b[43m,\u001b[49m\n\u001b[32m     24\u001b[39m \u001b[43m    \u001b[49m\u001b[43mport\u001b[49m\u001b[43m=\u001b[49m\u001b[38;5;28;43mself\u001b[39;49m\u001b[43m.\u001b[49m\u001b[43m_config\u001b[49m\u001b[43m.\u001b[49m\u001b[43mport\u001b[49m\u001b[43m,\u001b[49m\n\u001b[32m     25\u001b[39m \u001b[43m    \u001b[49m\u001b[43mdb_name\u001b[49m\u001b[43m=\u001b[49m\u001b[38;5;28;43mself\u001b[39;49m\u001b[43m.\u001b[49m\u001b[43m_config\u001b[49m\u001b[43m.\u001b[49m\u001b[43mdb_name\u001b[49m\u001b[43m,\u001b[49m\n\u001b[32m     26\u001b[39m \u001b[43m    \u001b[49m\u001b[43musername\u001b[49m\u001b[43m=\u001b[49m\u001b[38;5;28;43mself\u001b[39;49m\u001b[43m.\u001b[49m\u001b[43m_config\u001b[49m\u001b[43m.\u001b[49m\u001b[43musername\u001b[49m\u001b[43m,\u001b[49m\n\u001b[32m     27\u001b[39m \u001b[43m    \u001b[49m\u001b[43mpassword\u001b[49m\u001b[43m=\u001b[49m\u001b[38;5;28;43mself\u001b[39;49m\u001b[43m.\u001b[49m\u001b[43m_config\u001b[49m\u001b[43m.\u001b[49m\u001b[43mpassword\u001b[49m\u001b[43m,\u001b[49m\n\u001b[32m     28\u001b[39m \u001b[43m\u001b[49m\u001b[43m)\u001b[49m\n",
      "\u001b[36mFile \u001b[39m\u001b[32m~/Documents/Projects/risk-neutral-hedging/.venv/lib/python3.13/site-packages/acedb/postgreclient.py:24\u001b[39m, in \u001b[36mPostgreDBClient.__init__\u001b[39m\u001b[34m(self, host, port, db_name, username, password)\u001b[39m\n\u001b[32m     22\u001b[39m \u001b[38;5;28;01mdef\u001b[39;00m\u001b[38;5;250m \u001b[39m\u001b[34m__init__\u001b[39m(\u001b[38;5;28mself\u001b[39m, host, port, db_name, username, password):\n\u001b[32m     23\u001b[39m     \u001b[38;5;28;01mtry\u001b[39;00m:\n\u001b[32m---> \u001b[39m\u001b[32m24\u001b[39m         conn = \u001b[43mpsycopg2\u001b[49m\u001b[43m.\u001b[49m\u001b[43mconnect\u001b[49m\u001b[43m(\u001b[49m\n\u001b[32m     25\u001b[39m \u001b[43m            \u001b[49m\u001b[43mhost\u001b[49m\u001b[43m=\u001b[49m\u001b[43mhost\u001b[49m\u001b[43m,\u001b[49m\n\u001b[32m     26\u001b[39m \u001b[43m            \u001b[49m\u001b[43mport\u001b[49m\u001b[43m=\u001b[49m\u001b[43mport\u001b[49m\u001b[43m,\u001b[49m\n\u001b[32m     27\u001b[39m \u001b[43m            \u001b[49m\u001b[43mdbname\u001b[49m\u001b[43m=\u001b[49m\u001b[43mdb_name\u001b[49m\u001b[43m,\u001b[49m\n\u001b[32m     28\u001b[39m \u001b[43m            \u001b[49m\u001b[43muser\u001b[49m\u001b[43m=\u001b[49m\u001b[43musername\u001b[49m\u001b[43m,\u001b[49m\n\u001b[32m     29\u001b[39m \u001b[43m            \u001b[49m\u001b[43mpassword\u001b[49m\u001b[43m=\u001b[49m\u001b[43mpassword\u001b[49m\u001b[43m,\u001b[49m\n\u001b[32m     30\u001b[39m \u001b[43m            \u001b[49m\u001b[43mconnect_timeout\u001b[49m\u001b[43m=\u001b[49m\u001b[32;43m5\u001b[39;49m\u001b[43m,\u001b[49m\n\u001b[32m     31\u001b[39m \u001b[43m        \u001b[49m\u001b[43m)\u001b[49m\n\u001b[32m     32\u001b[39m         \u001b[38;5;28mself\u001b[39m._cursor = conn.cursor()\n\u001b[32m     34\u001b[39m     \u001b[38;5;28;01mexcept\u001b[39;00m:\n",
      "\u001b[36mFile \u001b[39m\u001b[32m~/Documents/Projects/risk-neutral-hedging/.venv/lib/python3.13/site-packages/psycopg2/__init__.py:122\u001b[39m, in \u001b[36mconnect\u001b[39m\u001b[34m(dsn, connection_factory, cursor_factory, **kwargs)\u001b[39m\n\u001b[32m    119\u001b[39m     kwasync[\u001b[33m'\u001b[39m\u001b[33masync_\u001b[39m\u001b[33m'\u001b[39m] = kwargs.pop(\u001b[33m'\u001b[39m\u001b[33masync_\u001b[39m\u001b[33m'\u001b[39m)\n\u001b[32m    121\u001b[39m dsn = _ext.make_dsn(dsn, **kwargs)\n\u001b[32m--> \u001b[39m\u001b[32m122\u001b[39m conn = \u001b[43m_connect\u001b[49m\u001b[43m(\u001b[49m\u001b[43mdsn\u001b[49m\u001b[43m,\u001b[49m\u001b[43m \u001b[49m\u001b[43mconnection_factory\u001b[49m\u001b[43m=\u001b[49m\u001b[43mconnection_factory\u001b[49m\u001b[43m,\u001b[49m\u001b[43m \u001b[49m\u001b[43m*\u001b[49m\u001b[43m*\u001b[49m\u001b[43mkwasync\u001b[49m\u001b[43m)\u001b[49m\n\u001b[32m    123\u001b[39m \u001b[38;5;28;01mif\u001b[39;00m cursor_factory \u001b[38;5;129;01mis\u001b[39;00m \u001b[38;5;129;01mnot\u001b[39;00m \u001b[38;5;28;01mNone\u001b[39;00m:\n\u001b[32m    124\u001b[39m     conn.cursor_factory = cursor_factory\n",
      "\u001b[31mOperationalError\u001b[39m: could not translate host name \"id-hdb-psgr-ct11.ethz.ch\" to address: nodename nor servname provided, or not known\n"
     ]
    }
   ],
   "source": [
    "client = AceDB()"
   ]
  },
  {
   "cell_type": "code",
   "execution_count": null,
   "id": "3dbbef03",
   "metadata": {},
   "outputs": [],
   "source": [
    "ranges = client.get_ranges()\n",
    "ranges"
   ]
  },
  {
   "cell_type": "code",
   "execution_count": null,
   "id": "052f5dc6",
   "metadata": {},
   "outputs": [],
   "source": [
    "# _ = client.get_data(dataset='GLBX.MDP3', schemas='ohlcv-1d',symbols='ES.FUT',start='2018-05-13',end='2025-06-27',download=True, stype_in='parent',path='../data')"
   ]
  },
  {
   "cell_type": "code",
   "execution_count": null,
   "id": "d08da49b",
   "metadata": {},
   "outputs": [],
   "source": [
    "# _ = client.get_data(dataset='GLBX.MDP3', schemas='ohlcv-1d',symbols='ES.OPT',start='2018-05-13',end='2025-06-27',download=True, stype_in='parent',path='../data')"
   ]
  },
  {
   "cell_type": "code",
   "execution_count": null,
   "id": "6cabc941",
   "metadata": {},
   "outputs": [
    {
     "name": "stdout",
     "output_type": "stream",
     "text": [
      "Dataset FRED not found in Databento.\n",
      "Processing symbol DGS1MO...\n",
      "Table DGS1MO created in Schema FRED.\n",
      "Data inserted into FRED.DGS1MO.\n",
      "Data downloaded to ../data/DGS1MO_20250630_154726.csv\n"
     ]
    },
    {
     "data": {
      "text/plain": [
       "{'DGS1MO':        ts_event     0\n",
       " 0    2001-07-31  3.67\n",
       " 1    2001-08-01  3.65\n",
       " 2    2001-08-02  3.65\n",
       " 3    2001-08-03  3.63\n",
       " 4    2001-08-06  3.62\n",
       " ...         ...   ...\n",
       " 6233 2025-06-20   4.2\n",
       " 6234 2025-06-23   4.2\n",
       " 6235 2025-06-24  4.21\n",
       " 6236 2025-06-25  4.21\n",
       " 6237 2025-06-26  4.11\n",
       " \n",
       " [6238 rows x 2 columns]}"
      ]
     },
     "execution_count": 15,
     "metadata": {},
     "output_type": "execute_result"
    }
   ],
   "source": [
    "client.get_data(dataset='FRED',schemas=[], symbols='DGS1MO', start='2018-05-13', end='2025-06-27', download=True, path='../data')"
   ]
  },
  {
   "cell_type": "code",
   "execution_count": null,
   "id": "ccfa542e",
   "metadata": {},
   "outputs": [],
   "source": []
  }
 ],
 "metadata": {
  "kernelspec": {
   "display_name": ".venv",
   "language": "python",
   "name": "python3"
  },
  "language_info": {
   "codemirror_mode": {
    "name": "ipython",
    "version": 3
   },
   "file_extension": ".py",
   "mimetype": "text/x-python",
   "name": "python",
   "nbconvert_exporter": "python",
   "pygments_lexer": "ipython3",
   "version": "3.13.2"
  }
 },
 "nbformat": 4,
 "nbformat_minor": 5
}
